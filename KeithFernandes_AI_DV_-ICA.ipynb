{
 "cells": [
  {
   "cell_type": "code",
   "execution_count": null,
   "id": "99487c68",
   "metadata": {},
   "outputs": [],
   "source": [
    "pip install python-constraint"
   ]
  },
  {
   "cell_type": "markdown",
   "id": "5a8d77fa",
   "metadata": {},
   "source": [
    "### Tasks for Artificial Intelligence"
   ]
  },
  {
   "cell_type": "markdown",
   "id": "014d98e8",
   "metadata": {},
   "source": [
    "Scenario 1:\n",
    "\n",
    "Suppose Ciara knows Python, and only has funds to hire three more people."
   ]
  },
  {
   "cell_type": "code",
   "execution_count": 2,
   "id": "73667ecd",
   "metadata": {
    "scrolled": false
   },
   "outputs": [
    {
     "name": "stdout",
     "output_type": "stream",
     "text": [
      "Option 1:\n",
      "Role Py_1: Ciara\n",
      "Role Py_2: Jane\n",
      "Role AI_1: Juan\n",
      "Role AI_2: Jim\n",
      "Role Web: Juan\n",
      "Role Database: Jane\n",
      "Role Systems: Jim\n",
      "\n",
      "Option 2:\n",
      "Role Py_1: Ciara\n",
      "Role Py_2: Jane\n",
      "Role AI_1: Jim\n",
      "Role AI_2: Juan\n",
      "Role Web: Juan\n",
      "Role Database: Jane\n",
      "Role Systems: Jim\n",
      "\n",
      "Option 3:\n",
      "Role Py_1: Ciara\n",
      "Role Py_2: Jane\n",
      "Role AI_1: Jim\n",
      "Role AI_2: Anita\n",
      "Role Web: Anita\n",
      "Role Database: Jane\n",
      "Role Systems: Jim\n",
      "\n",
      "Option 4:\n",
      "Role Py_1: Ciara\n",
      "Role Py_2: Jane\n",
      "Role AI_1: Anita\n",
      "Role AI_2: Jim\n",
      "Role Web: Anita\n",
      "Role Database: Jane\n",
      "Role Systems: Jim\n",
      "\n"
     ]
    }
   ],
   "source": [
    "# Define the roles and the candidates with their qualifications\n",
    "roles = [\"Py_1\", \"Py_2\", \"AI_1\", \"AI_2\", \"Web\", \"Database\", \"Systems\"]\n",
    "candidates = {\n",
    "    \"Ciara\": [\"Py_1\"],\n",
    "    \"Peter\": [\"Py_2\", \"AI_1\", \"AI_2\"],\n",
    "    \"Juan\": [\"Web\", \"AI_1\", \"AI_2\"],\n",
    "    \"Jim\": [\"AI_1\", \"AI_2\", \"Systems\"],\n",
    "    \"Jane\": [\"Py_2\", \"Database\"],\n",
    "    \"Mary\": [\"Web\", \"Systems\"],\n",
    "    \"Bruce\": [\"Systems\", \"Py_2\"],\n",
    "    \"Anita\": [\"Web\", \"AI_1\", \"AI_2\"]\n",
    "}\n",
    "\n",
    "# Initialize variables to store the current solution and the list of solutions\n",
    "current_option = {}\n",
    "options = []\n",
    "\n",
    "# Define the constraints\n",
    "def is_valid(option):\n",
    "    # Ciara must take Py_1\n",
    "    if option.get(\"Py_1\") != \"Ciara\":\n",
    "        return False\n",
    "\n",
    "    # A person can only occupy one of the two available AI positions\n",
    "    ai_roles = [option.get(\"AI_1\"), option.get(\"AI_2\")]\n",
    "    if len(set(ai_roles)) != 2:\n",
    "        return False\n",
    "\n",
    "    # Jane is the only one qualified to occupy the database position\n",
    "    if option.get(\"Database\") != \"Jane\":\n",
    "        return False\n",
    "\n",
    "    # Check if Ciara can hire 3 more people\n",
    "    if len(set(current_option.values())) > 4:\n",
    "        return False\n",
    "\n",
    "    # Check if a person can only occupy a maximum of two roles\n",
    "    candidates_count = {candidate: list(current_option.values()).count(candidate) for candidate in candidates.keys()}\n",
    "    if any(count > 2 for count in candidates_count.values()):\n",
    "        return False\n",
    "\n",
    "    # Check if the individual is qualified for the roles they occupy\n",
    "    for role, candidate in option.items():\n",
    "        if role not in candidates[candidate]:\n",
    "            return False\n",
    "\n",
    "    return True\n",
    "\n",
    "# Define the backtracking algorithm\n",
    "def backtrack(role_index):\n",
    "    if role_index == len(roles):\n",
    "        # All roles are filled, check if the solution is valid\n",
    "        if is_valid(current_option):\n",
    "            options.append(dict(current_option))\n",
    "        return\n",
    "\n",
    "    current_role = roles[role_index]\n",
    "\n",
    "    for candidate in candidates.keys():\n",
    "        current_option[current_role] = candidate\n",
    "        backtrack(role_index + 1)\n",
    "        current_option[current_role] = None\n",
    "\n",
    "# Run the backtracking algorithm\n",
    "backtrack(0)\n",
    "\n",
    "# Print the options by role\n",
    "for i, option in enumerate(options):\n",
    "    print(f\"Option {i+1}:\")\n",
    "    for role, candidate in option.items():\n",
    "        print(f\"Role {role}: {candidate}\")\n",
    "    print()\n"
   ]
  },
  {
   "cell_type": "markdown",
   "id": "69f31cce",
   "metadata": {},
   "source": [
    "Scenario 2:\n",
    "\n",
    "Suppose Ciara and Juan become partners, with the additional funds they can now employ four more people but must employ another AI Engineer, so they need 2 Python Programmers, 3 AI Engineers, 1 Web Designer, 1 Database Admin, and 1 Systems Engineer.\n"
   ]
  },
  {
   "cell_type": "code",
   "execution_count": null,
   "id": "d170fe63",
   "metadata": {},
   "outputs": [],
   "source": [
    "from constraint import Problem\n",
    "\n",
    "# Defines the roles and the candidates with their qualifications\n",
    "roles = [\"Py_1\", \"Py_2\", \"AI_1\", \"AI_2\", \"AI_3\", \"Web\", \"Database\", \"Systems\"]\n",
    "candidates = {\n",
    "    \"Ciara\": [\"Py_1\", \"Py_2\"],\n",
    "    \"Peter\": [\"Py_1\", \"Py_2\", \"AI_1\", \"AI_2\", \"AI_3\"],\n",
    "    \"Juan\": [\"Web\", \"AI_1\", \"AI_2\", \"AI_3\"],\n",
    "    \"Jim\": [\"AI_1\", \"AI_2\", \"AI_3\", \"Systems\"],\n",
    "    \"Jane\": [\"Py_1\", \"Py_2\", \"Database\"],\n",
    "    \"Mary\": [\"Web\", \"Systems\"],\n",
    "    \"Bruce\": [\"Systems\", \"Py_1\", \"Py_2\"],\n",
    "    \"Anita\": [\"Web\", \"AI_1\", \"AI_2\", \"AI_3\"]\n",
    "}\n",
    "\n",
    "def create_problem(roles, candidates):\n",
    "    problem = Problem()\n",
    "\n",
    "    # Add variables (roles) and their domains (candidates who can take the roles)\n",
    "    for role in roles:\n",
    "        problem.addVariable(role, list(candidates.keys()))\n",
    "\n",
    "    # Add constraints\n",
    "    add_constraints(problem, roles, candidates)\n",
    "\n",
    "    return problem\n",
    "\n",
    "def add_constraints(problem, roles, candidates):\n",
    "    # Add individual constraints\n",
    "    problem.addConstraint(python_constraint, [\"Py_1\", \"Py_2\"])\n",
    "    problem.addConstraint(ai_constraint, [\"AI_1\", \"AI_2\", \"AI_3\"])\n",
    "    problem.addConstraint(db_constraint, [\"Database\"])\n",
    "    problem.addConstraint(hiring_constraint, roles)\n",
    "    problem.addConstraint(max_two_positions_constraint, roles)\n",
    "    problem.addConstraint(qualification_constraint, roles)\n",
    "\n",
    "def python_constraint(Py_1, Py_2):\n",
    "    return Py_1 != Py_2\n",
    "\n",
    "def ai_constraint(ai_1, ai_2, ai_3):\n",
    "    return ai_1 != ai_2 and ai_1 != ai_3 and ai_2 != ai_3\n",
    "\n",
    "def db_constraint(database):\n",
    "    return database == \"Jane\"\n",
    "\n",
    "def hiring_constraint(*args):\n",
    "    candidates_set = set(args)\n",
    "    if \"Ciara\" in candidates_set and \"Juan\" in candidates_set:\n",
    "        return len(candidates_set) <= 6\n",
    "    elif \"Ciara\" in candidates_set or \"Juan\" in candidates_set:\n",
    "        return len(candidates_set) <= 5\n",
    "    else:\n",
    "        return len(candidates_set) == 4\n",
    "\n",
    "def max_two_positions_constraint(*args):\n",
    "    candidates_count = dict()\n",
    "    for candidate in args:\n",
    "        if candidate in candidates_count:\n",
    "            candidates_count[candidate] += 1\n",
    "        else:\n",
    "            candidates_count[candidate] = 1\n",
    "    return all(count <= 2 for count in candidates_count.values())\n",
    "\n",
    "def qualification_constraint(*args):\n",
    "    for role, candidate in zip(roles, args):\n",
    "        if role not in candidates[candidate]:\n",
    "            return False\n",
    "    return True\n",
    "\n",
    "def solve_and_print(problem, roles):\n",
    "    options = problem.getSolutions()\n",
    "\n",
    "    total_combinations = 0\n",
    "    unique_options = []\n",
    "\n",
    "    for option in options:\n",
    "        # Post-process the solution as needed\n",
    "        post_process_option(option, roles)\n",
    "\n",
    "        # Adds to unique options if not already present\n",
    "        if option not in unique_options:\n",
    "            unique_options.append(option)\n",
    "            total_combinations += 1\n",
    "\n",
    "    # Prints the options by role\n",
    "    for i, option in enumerate(unique_options):\n",
    "        print_option(i + 1, option)\n",
    "\n",
    "def post_process_option(option, roles):\n",
    "    # For roles with the same qualifications, sorts the individuals\n",
    "    ai_roles = sorted([option[\"AI_1\"], option[\"AI_2\"], option[\"AI_3\"]])\n",
    "    option[\"AI_1\"], option[\"AI_2\"], option[\"AI_3\"] = ai_roles[0], ai_roles[1], ai_roles[2]\n",
    "\n",
    "    python_roles = sorted([option[\"Py_1\"], option[\"Py_2\"]])\n",
    "    option[\"Py_1\"], option[\"Py_2\"] = python_roles\n",
    "\n",
    "def print_option(index, option):\n",
    "    print(f\"Option {index}:\")\n",
    "    for role, candidate in option.items():\n",
    "        print(f\"Role {role}: {candidate}\")\n",
    "    print()\n",
    "\n",
    "# Original roles and candidates\n",
    "roles = [\"Py_1\", \"Py_2\", \"AI_1\", \"AI_2\", \"AI_3\", \"Web\", \"Database\", \"Systems\"]\n",
    "candidates = {\n",
    "    \"Ciara\": [\"Py_1\", \"Py_2\"],\n",
    "    \"Peter\": [\"Py_1\", \"Py_2\", \"AI_1\", \"AI_2\", \"AI_3\"],\n",
    "    \"Juan\": [\"Web\", \"AI_1\", \"AI_2\", \"AI_3\"],\n",
    "    \"Jim\": [\"AI_1\", \"AI_2\", \"AI_3\", \"Systems\"],\n",
    "    \"Jane\": [\"Py_1\", \"Py_2\", \"Database\"],\n",
    "    \"Mary\": [\"Web\", \"Systems\"],\n",
    "    \"Bruce\": [\"Systems\", \"Py_1\", \"Py_2\"],\n",
    "    \"Anita\": [\"Web\", \"AI_1\", \"AI_2\", \"AI_3\"]\n",
    "}\n",
    "\n",
    "# Create and solve the problem\n",
    "problem = create_problem(roles, candidates)\n",
    "solve_and_print(problem, roles)\n"
   ]
  },
  {
   "cell_type": "code",
   "execution_count": null,
   "id": "120c62d2",
   "metadata": {},
   "outputs": [],
   "source": [
    "from constraint import Problem\n",
    "\n",
    "# Define the roles and the candidates with their qualifications\n",
    "roles = [\"py_1\", \"py_2\", \"AI_1\", \"AI_2\", \"Web\", \"Database\", \"Systems\"]\n",
    "candidates = {\n",
    "    \"Ciara\": [\"py_1\"],\n",
    "    \"Peter\": [\"py_2\", \"AI_1\", \"AI_2\"],\n",
    "    \"Juan\": [\"Web\", \"AI_1\", \"AI_2\"],\n",
    "    \"Jim\": [\"AI_1\", \"AI_2\", \"Systems\"],\n",
    "    \"Jane\": [\"py_2\", \"Database\"],\n",
    "    \"Mary\": [\"Web\", \"Systems\"],\n",
    "    \"Bruce\": [\"Systems\", \"py_2\"],\n",
    "    \"Anita\": [\"Web\", \"AI_1\", \"AI_2\"]\n",
    "}\n",
    "\n",
    "def create_problem(roles, candidates):\n",
    "    problem = Problem()\n",
    "\n",
    "    # Add variables (roles) and their domains (candidates who can take the roles)\n",
    "    for role in roles:\n",
    "        problem.addVariable(role, list(candidates.keys()))\n",
    "\n",
    "    # Add constraints\n",
    "    add_constraints(problem, roles, candidates)\n",
    "\n",
    "    return problem\n",
    "\n",
    "def add_constraints(problem, roles, candidates):\n",
    "    # Add individual constraints\n",
    "    problem.addConstraint(python_constraint, [\"py_1\", \"py_2\"])\n",
    "    problem.addConstraint(ai_constraint, [\"AI_1\", \"AI_2\"])\n",
    "    problem.addConstraint(db_constraint, [\"Database\"])\n",
    "    problem.addConstraint(hiring_constraint, roles)\n",
    "    problem.addConstraint(max_two_positions_constraint, roles)\n",
    "    problem.addConstraint(qualification_constraint, roles)\n",
    "\n",
    "def python_constraint(py_1, py_2):\n",
    "    return py_1 != py_2\n",
    "\n",
    "def ai_constraint(ai_1, ai_2):\n",
    "    return ai_1 != ai_2\n",
    "\n",
    "def db_constraint(database):\n",
    "    return database == \"Jane\"\n",
    "\n",
    "def hiring_constraint(*args):\n",
    "    candidates_set = set(args)\n",
    "    if \"Ciara\" in candidates_set and \"Juan\" in candidates_set:\n",
    "        return len(candidates_set) <= 6\n",
    "    elif \"Ciara\" in candidates_set or \"Juan\" in candidates_set:\n",
    "        return len(candidates_set) <= 5\n",
    "    else:\n",
    "        return len(candidates_set) == 4\n",
    "\n",
    "def max_two_positions_constraint(*args):\n",
    "    candidates_count = dict()\n",
    "    for candidate in args:\n",
    "        if candidate in candidates_count:\n",
    "            candidates_count[candidate] += 1\n",
    "        else:\n",
    "            candidates_count[candidate] = 1\n",
    "    return all(count <= 2 for count in candidates_count.values())\n",
    "\n",
    "def qualification_constraint(*args):\n",
    "    for role, candidate in zip(roles, args):\n",
    "        if role not in candidates[candidate]:\n",
    "            return False\n",
    "    return True\n",
    "\n",
    "def solve_and_print(problem, roles):\n",
    "    options = problem.getSolutions()\n",
    "\n",
    "    total_combinations = 0\n",
    "    unique_options = []\n",
    "\n",
    "    candidates_count = dict()  # Track the count of each candidate\n",
    "\n",
    "    for option in options:\n",
    "        # Post-process the solution as needed\n",
    "        post_process_option(option, roles)\n",
    "\n",
    "        # Adds to unique options if not already present\n",
    "        if option not in unique_options:\n",
    "            unique_options.append(option)\n",
    "            total_combinations += 1\n",
    "\n",
    "            # Update the count of each candidate\n",
    "            for candidate in option.values():\n",
    "                if candidate in candidates_count:\n",
    "                    candidates_count[candidate] += 1\n",
    "                else:\n",
    "                    candidates_count[candidate] = 1\n",
    "\n",
    "    # Prints the options by role\n",
    "    for i, option in enumerate(unique_options):\n",
    "        print_option(i + 1, option)\n",
    "\n",
    "    # Print the number of solutions\n",
    "    print(f\"\\nTotal number of solutions: {total_combinations}\")\n",
    "\n",
    "    # Print the count of each candidate\n",
    "    print(\"\\nCount of each candidate:\")\n",
    "    for candidate, count in candidates_count.items():\n",
    "        print(f\"{candidate}: {count}\")\n",
    "\n",
    "def post_process_option(option, roles):\n",
    "    # For roles with the same qualifications, sorts the individuals\n",
    "    ai_roles = sorted([option[\"AI_1\"], option[\"AI_2\"]])\n",
    "    option[\"AI_1\"], option[\"AI_2\"] = ai_roles[0], ai_roles[1]\n",
    "\n",
    "    python_roles = sorted([option[\"py_1\"], option[\"py_2\"]])\n",
    "    option[\"py_1\"], option[\"py_2\"] = python_roles\n",
    "\n",
    "def print_option(index, option):\n",
    "    print(f\"\\nOption {index}:\")\n",
    "    for role, candidate in option.items():\n",
    "        print(f\"Role {role}: {candidate}\")\n",
    "\n",
    "# Create and solve the problem\n",
    "problem = create_problem(roles, candidates)\n",
    "solve_and_print(problem, roles)\n"
   ]
  },
  {
   "cell_type": "markdown",
   "id": "2dce8ddb",
   "metadata": {},
   "source": [
    "These problems be solved using several other algorithm’s we have studied in the module. Choose one of these algorithms and discuss your answer in detail including a proof of your hypothesis in code ."
   ]
  },
  {
   "cell_type": "code",
   "execution_count": null,
   "id": "99409f33",
   "metadata": {},
   "outputs": [],
   "source": [
    "from pulp import LpProblem, LpMinimize, LpVariable, lpSum, value, PULP_CBC_CMD\n",
    "\n",
    "# Define roles and candidates\n",
    "roles = [\"py_1\", \"py_2\", \"AI_1\", \"AI_2\", \"Web\", \"Database\", \"Systems\"]\n",
    "candidates = [\"Peter\", \"Jim\", \"Jane\", \"Mary\", \"Bruce\", \"Anita\"]\n",
    "\n",
    "# Create ILP problem\n",
    "prob = LpProblem(\"CSP_ILP\", LpMinimize)\n",
    "\n",
    "# Define binary variables\n",
    "x = {(i, j): LpVariable(name=f\"x_{i}_{j}\", cat=\"Binary\") for i in roles for j in candidates}\n",
    "\n",
    "# Objective function (minimize the sum of variables)\n",
    "prob += lpSum(x[i, j] for i in roles for j in candidates)\n",
    "\n",
    "# Constraints\n",
    "for i in roles:\n",
    "    prob += lpSum(x[i, j] for j in candidates) == 1\n",
    "\n",
    "for j in candidates:\n",
    "    prob += lpSum(x[i, j] for i in roles) <= 3  # Relax the maximum positions a candidate can take\n",
    "\n",
    "# Qualification constraints\n",
    "prob += lpSum(x[\"py_1\", j] for j in candidates) == 1\n",
    "prob += lpSum(x[\"py_2\", j] for j in candidates) == 1\n",
    "prob += lpSum(x[\"AI_1\", j] for j in candidates) == 1\n",
    "prob += lpSum(x[\"AI_2\", j] for j in candidates) == 1\n",
    "prob += lpSum(x[\"Database\", j] for j in candidates) == 1\n",
    "prob += lpSum(x[\"Systems\", j] for j in candidates) == 1\n",
    "\n",
    "# Additional hiring requirements\n",
    "prob += lpSum(x[i, j] for i in [\"py_1\", \"py_2\"] for j in candidates) == 2  # 2 Python Programmers\n",
    "prob += lpSum(x[i, j] for i in [\"AI_1\", \"AI_2\"] for j in candidates) == 3  # 3 AI Engineers\n",
    "\n",
    "# 1 Web Designer\n",
    "for j in candidates:\n",
    "    prob += x[\"Web\", j] == 1\n",
    "\n",
    "# 1 Database Admin\n",
    "for j in candidates:\n",
    "    prob += x[\"Database\", j] == 1\n",
    "\n",
    "# 1 Systems Engineer\n",
    "for j in candidates:\n",
    "    prob += x[\"Systems\", j] == 1\n",
    "\n",
    "# Solve the problem\n",
    "prob.solve(PULP_CBC_CMD(msg=False))\n",
    "\n",
    "# Print the options for each candidate\n",
    "print(\"Options for each candidate:\")\n",
    "for j in candidates:\n",
    "    options = [i for i in roles if value(x[i, j]) >= 0.5]\n",
    "    print(f\"{j}: {options}\")\n"
   ]
  },
  {
   "cell_type": "markdown",
   "id": "db33f370",
   "metadata": {},
   "source": [
    "### Tasks for Data Visualisation"
   ]
  },
  {
   "cell_type": "code",
   "execution_count": 20,
   "id": "72ee807d",
   "metadata": {},
   "outputs": [
    {
     "name": "stdout",
     "output_type": "stream",
     "text": [
      "\n",
      "Table of available Roles:\n"
     ]
    },
    {
     "data": {
      "text/html": [
       "<div>\n",
       "<style scoped>\n",
       "    .dataframe tbody tr th:only-of-type {\n",
       "        vertical-align: middle;\n",
       "    }\n",
       "\n",
       "    .dataframe tbody tr th {\n",
       "        vertical-align: top;\n",
       "    }\n",
       "\n",
       "    .dataframe thead th {\n",
       "        text-align: right;\n",
       "    }\n",
       "</style>\n",
       "<table border=\"1\" class=\"dataframe\">\n",
       "  <thead>\n",
       "    <tr style=\"text-align: right;\">\n",
       "      <th></th>\n",
       "      <th>Roles</th>\n",
       "    </tr>\n",
       "  </thead>\n",
       "  <tbody>\n",
       "    <tr>\n",
       "      <th>0</th>\n",
       "      <td>Py_1</td>\n",
       "    </tr>\n",
       "    <tr>\n",
       "      <th>1</th>\n",
       "      <td>Py_2</td>\n",
       "    </tr>\n",
       "    <tr>\n",
       "      <th>2</th>\n",
       "      <td>AI_1</td>\n",
       "    </tr>\n",
       "    <tr>\n",
       "      <th>3</th>\n",
       "      <td>AI_2</td>\n",
       "    </tr>\n",
       "    <tr>\n",
       "      <th>4</th>\n",
       "      <td>AI_3</td>\n",
       "    </tr>\n",
       "    <tr>\n",
       "      <th>5</th>\n",
       "      <td>Web</td>\n",
       "    </tr>\n",
       "    <tr>\n",
       "      <th>6</th>\n",
       "      <td>Database</td>\n",
       "    </tr>\n",
       "    <tr>\n",
       "      <th>7</th>\n",
       "      <td>Systems</td>\n",
       "    </tr>\n",
       "  </tbody>\n",
       "</table>\n",
       "</div>"
      ],
      "text/plain": [
       "      Roles\n",
       "0      Py_1\n",
       "1      Py_2\n",
       "2      AI_1\n",
       "3      AI_2\n",
       "4      AI_3\n",
       "5       Web\n",
       "6  Database\n",
       "7   Systems"
      ]
     },
     "metadata": {},
     "output_type": "display_data"
    },
    {
     "name": "stdout",
     "output_type": "stream",
     "text": [
      "\n",
      "Table of candidates qualified:\n"
     ]
    },
    {
     "data": {
      "text/html": [
       "<div>\n",
       "<style scoped>\n",
       "    .dataframe tbody tr th:only-of-type {\n",
       "        vertical-align: middle;\n",
       "    }\n",
       "\n",
       "    .dataframe tbody tr th {\n",
       "        vertical-align: top;\n",
       "    }\n",
       "\n",
       "    .dataframe thead th {\n",
       "        text-align: right;\n",
       "    }\n",
       "</style>\n",
       "<table border=\"1\" class=\"dataframe\">\n",
       "  <thead>\n",
       "    <tr style=\"text-align: right;\">\n",
       "      <th></th>\n",
       "      <th>Candidate</th>\n",
       "      <th>Abilities</th>\n",
       "    </tr>\n",
       "  </thead>\n",
       "  <tbody>\n",
       "    <tr>\n",
       "      <th>0</th>\n",
       "      <td>Ciara</td>\n",
       "      <td>[Py_1, Py_2]</td>\n",
       "    </tr>\n",
       "    <tr>\n",
       "      <th>1</th>\n",
       "      <td>Peter</td>\n",
       "      <td>[Py_1, Py_2, AI_1, AI_2, AI_3]</td>\n",
       "    </tr>\n",
       "    <tr>\n",
       "      <th>2</th>\n",
       "      <td>Juan</td>\n",
       "      <td>[Web, AI_1, AI_2, AI_3]</td>\n",
       "    </tr>\n",
       "    <tr>\n",
       "      <th>3</th>\n",
       "      <td>Jim</td>\n",
       "      <td>[AI_1, AI_2, AI_3, Systems]</td>\n",
       "    </tr>\n",
       "    <tr>\n",
       "      <th>4</th>\n",
       "      <td>Jane</td>\n",
       "      <td>[Py_1, Py_2, Database]</td>\n",
       "    </tr>\n",
       "    <tr>\n",
       "      <th>5</th>\n",
       "      <td>Mary</td>\n",
       "      <td>[Web, Systems]</td>\n",
       "    </tr>\n",
       "    <tr>\n",
       "      <th>6</th>\n",
       "      <td>Bruce</td>\n",
       "      <td>[Systems, Py_1, Py_2]</td>\n",
       "    </tr>\n",
       "    <tr>\n",
       "      <th>7</th>\n",
       "      <td>Anita</td>\n",
       "      <td>[Web, AI_1, AI_2, AI_3]</td>\n",
       "    </tr>\n",
       "  </tbody>\n",
       "</table>\n",
       "</div>"
      ],
      "text/plain": [
       "  Candidate                       Abilities\n",
       "0     Ciara                    [Py_1, Py_2]\n",
       "1     Peter  [Py_1, Py_2, AI_1, AI_2, AI_3]\n",
       "2      Juan         [Web, AI_1, AI_2, AI_3]\n",
       "3       Jim     [AI_1, AI_2, AI_3, Systems]\n",
       "4      Jane          [Py_1, Py_2, Database]\n",
       "5      Mary                  [Web, Systems]\n",
       "6     Bruce           [Systems, Py_1, Py_2]\n",
       "7     Anita         [Web, AI_1, AI_2, AI_3]"
      ]
     },
     "metadata": {},
     "output_type": "display_data"
    }
   ],
   "source": [
    "import pandas as pd\n",
    "from IPython.display import display\n",
    "\n",
    "# ... (your existing code)\n",
    "\n",
    "# Create DataFrames\n",
    "roles_df = pd.DataFrame({\"Roles\": roles})\n",
    "candidates_df = pd.DataFrame(list(candidates.items()), columns=[\"Candidate\", \"Abilities\"])\n",
    "\n",
    "# Display DataFrames using IPython display\n",
    "print(\"\\nTable of available Roles:\")\n",
    "display(roles_df)\n",
    "\n",
    "print(\"\\nTable of candidates qualified:\")\n",
    "display(candidates_df)\n"
   ]
  },
  {
   "cell_type": "code",
   "execution_count": 19,
   "id": "80a2e8ee",
   "metadata": {},
   "outputs": [
    {
     "data": {
      "application/vnd.plotly.v1+json": {
       "config": {
        "plotlyServerURL": "https://plot.ly"
       },
       "data": [
        {
         "name": "Ciara Hire Count",
         "type": "bar",
         "x": [
          "Ciara"
         ],
         "y": [
          0
         ]
        },
        {
         "name": "Peter Hire Count",
         "type": "bar",
         "x": [
          "Peter"
         ],
         "y": [
          0
         ]
        },
        {
         "name": "Juan Hire Count",
         "type": "bar",
         "x": [
          "Juan"
         ],
         "y": [
          2
         ]
        },
        {
         "name": "Jim Hire Count",
         "type": "bar",
         "x": [
          "Jim"
         ],
         "y": [
          2
         ]
        },
        {
         "name": "Jane Hire Count",
         "type": "bar",
         "x": [
          "Jane"
         ],
         "y": [
          2
         ]
        },
        {
         "name": "Mary Hire Count",
         "type": "bar",
         "x": [
          "Mary"
         ],
         "y": [
          0
         ]
        },
        {
         "name": "Bruce Hire Count",
         "type": "bar",
         "x": [
          "Bruce"
         ],
         "y": [
          1
         ]
        },
        {
         "name": "Anita Hire Count",
         "type": "bar",
         "x": [
          "Anita"
         ],
         "y": [
          1
         ]
        }
       ],
       "layout": {
        "barmode": "stack",
        "template": {
         "data": {
          "bar": [
           {
            "error_x": {
             "color": "#2a3f5f"
            },
            "error_y": {
             "color": "#2a3f5f"
            },
            "marker": {
             "line": {
              "color": "#E5ECF6",
              "width": 0.5
             },
             "pattern": {
              "fillmode": "overlay",
              "size": 10,
              "solidity": 0.2
             }
            },
            "type": "bar"
           }
          ],
          "barpolar": [
           {
            "marker": {
             "line": {
              "color": "#E5ECF6",
              "width": 0.5
             },
             "pattern": {
              "fillmode": "overlay",
              "size": 10,
              "solidity": 0.2
             }
            },
            "type": "barpolar"
           }
          ],
          "carpet": [
           {
            "aaxis": {
             "endlinecolor": "#2a3f5f",
             "gridcolor": "white",
             "linecolor": "white",
             "minorgridcolor": "white",
             "startlinecolor": "#2a3f5f"
            },
            "baxis": {
             "endlinecolor": "#2a3f5f",
             "gridcolor": "white",
             "linecolor": "white",
             "minorgridcolor": "white",
             "startlinecolor": "#2a3f5f"
            },
            "type": "carpet"
           }
          ],
          "choropleth": [
           {
            "colorbar": {
             "outlinewidth": 0,
             "ticks": ""
            },
            "type": "choropleth"
           }
          ],
          "contour": [
           {
            "colorbar": {
             "outlinewidth": 0,
             "ticks": ""
            },
            "colorscale": [
             [
              0,
              "#0d0887"
             ],
             [
              0.1111111111111111,
              "#46039f"
             ],
             [
              0.2222222222222222,
              "#7201a8"
             ],
             [
              0.3333333333333333,
              "#9c179e"
             ],
             [
              0.4444444444444444,
              "#bd3786"
             ],
             [
              0.5555555555555556,
              "#d8576b"
             ],
             [
              0.6666666666666666,
              "#ed7953"
             ],
             [
              0.7777777777777778,
              "#fb9f3a"
             ],
             [
              0.8888888888888888,
              "#fdca26"
             ],
             [
              1,
              "#f0f921"
             ]
            ],
            "type": "contour"
           }
          ],
          "contourcarpet": [
           {
            "colorbar": {
             "outlinewidth": 0,
             "ticks": ""
            },
            "type": "contourcarpet"
           }
          ],
          "heatmap": [
           {
            "colorbar": {
             "outlinewidth": 0,
             "ticks": ""
            },
            "colorscale": [
             [
              0,
              "#0d0887"
             ],
             [
              0.1111111111111111,
              "#46039f"
             ],
             [
              0.2222222222222222,
              "#7201a8"
             ],
             [
              0.3333333333333333,
              "#9c179e"
             ],
             [
              0.4444444444444444,
              "#bd3786"
             ],
             [
              0.5555555555555556,
              "#d8576b"
             ],
             [
              0.6666666666666666,
              "#ed7953"
             ],
             [
              0.7777777777777778,
              "#fb9f3a"
             ],
             [
              0.8888888888888888,
              "#fdca26"
             ],
             [
              1,
              "#f0f921"
             ]
            ],
            "type": "heatmap"
           }
          ],
          "heatmapgl": [
           {
            "colorbar": {
             "outlinewidth": 0,
             "ticks": ""
            },
            "colorscale": [
             [
              0,
              "#0d0887"
             ],
             [
              0.1111111111111111,
              "#46039f"
             ],
             [
              0.2222222222222222,
              "#7201a8"
             ],
             [
              0.3333333333333333,
              "#9c179e"
             ],
             [
              0.4444444444444444,
              "#bd3786"
             ],
             [
              0.5555555555555556,
              "#d8576b"
             ],
             [
              0.6666666666666666,
              "#ed7953"
             ],
             [
              0.7777777777777778,
              "#fb9f3a"
             ],
             [
              0.8888888888888888,
              "#fdca26"
             ],
             [
              1,
              "#f0f921"
             ]
            ],
            "type": "heatmapgl"
           }
          ],
          "histogram": [
           {
            "marker": {
             "pattern": {
              "fillmode": "overlay",
              "size": 10,
              "solidity": 0.2
             }
            },
            "type": "histogram"
           }
          ],
          "histogram2d": [
           {
            "colorbar": {
             "outlinewidth": 0,
             "ticks": ""
            },
            "colorscale": [
             [
              0,
              "#0d0887"
             ],
             [
              0.1111111111111111,
              "#46039f"
             ],
             [
              0.2222222222222222,
              "#7201a8"
             ],
             [
              0.3333333333333333,
              "#9c179e"
             ],
             [
              0.4444444444444444,
              "#bd3786"
             ],
             [
              0.5555555555555556,
              "#d8576b"
             ],
             [
              0.6666666666666666,
              "#ed7953"
             ],
             [
              0.7777777777777778,
              "#fb9f3a"
             ],
             [
              0.8888888888888888,
              "#fdca26"
             ],
             [
              1,
              "#f0f921"
             ]
            ],
            "type": "histogram2d"
           }
          ],
          "histogram2dcontour": [
           {
            "colorbar": {
             "outlinewidth": 0,
             "ticks": ""
            },
            "colorscale": [
             [
              0,
              "#0d0887"
             ],
             [
              0.1111111111111111,
              "#46039f"
             ],
             [
              0.2222222222222222,
              "#7201a8"
             ],
             [
              0.3333333333333333,
              "#9c179e"
             ],
             [
              0.4444444444444444,
              "#bd3786"
             ],
             [
              0.5555555555555556,
              "#d8576b"
             ],
             [
              0.6666666666666666,
              "#ed7953"
             ],
             [
              0.7777777777777778,
              "#fb9f3a"
             ],
             [
              0.8888888888888888,
              "#fdca26"
             ],
             [
              1,
              "#f0f921"
             ]
            ],
            "type": "histogram2dcontour"
           }
          ],
          "mesh3d": [
           {
            "colorbar": {
             "outlinewidth": 0,
             "ticks": ""
            },
            "type": "mesh3d"
           }
          ],
          "parcoords": [
           {
            "line": {
             "colorbar": {
              "outlinewidth": 0,
              "ticks": ""
             }
            },
            "type": "parcoords"
           }
          ],
          "pie": [
           {
            "automargin": true,
            "type": "pie"
           }
          ],
          "scatter": [
           {
            "fillpattern": {
             "fillmode": "overlay",
             "size": 10,
             "solidity": 0.2
            },
            "type": "scatter"
           }
          ],
          "scatter3d": [
           {
            "line": {
             "colorbar": {
              "outlinewidth": 0,
              "ticks": ""
             }
            },
            "marker": {
             "colorbar": {
              "outlinewidth": 0,
              "ticks": ""
             }
            },
            "type": "scatter3d"
           }
          ],
          "scattercarpet": [
           {
            "marker": {
             "colorbar": {
              "outlinewidth": 0,
              "ticks": ""
             }
            },
            "type": "scattercarpet"
           }
          ],
          "scattergeo": [
           {
            "marker": {
             "colorbar": {
              "outlinewidth": 0,
              "ticks": ""
             }
            },
            "type": "scattergeo"
           }
          ],
          "scattergl": [
           {
            "marker": {
             "colorbar": {
              "outlinewidth": 0,
              "ticks": ""
             }
            },
            "type": "scattergl"
           }
          ],
          "scattermapbox": [
           {
            "marker": {
             "colorbar": {
              "outlinewidth": 0,
              "ticks": ""
             }
            },
            "type": "scattermapbox"
           }
          ],
          "scatterpolar": [
           {
            "marker": {
             "colorbar": {
              "outlinewidth": 0,
              "ticks": ""
             }
            },
            "type": "scatterpolar"
           }
          ],
          "scatterpolargl": [
           {
            "marker": {
             "colorbar": {
              "outlinewidth": 0,
              "ticks": ""
             }
            },
            "type": "scatterpolargl"
           }
          ],
          "scatterternary": [
           {
            "marker": {
             "colorbar": {
              "outlinewidth": 0,
              "ticks": ""
             }
            },
            "type": "scatterternary"
           }
          ],
          "surface": [
           {
            "colorbar": {
             "outlinewidth": 0,
             "ticks": ""
            },
            "colorscale": [
             [
              0,
              "#0d0887"
             ],
             [
              0.1111111111111111,
              "#46039f"
             ],
             [
              0.2222222222222222,
              "#7201a8"
             ],
             [
              0.3333333333333333,
              "#9c179e"
             ],
             [
              0.4444444444444444,
              "#bd3786"
             ],
             [
              0.5555555555555556,
              "#d8576b"
             ],
             [
              0.6666666666666666,
              "#ed7953"
             ],
             [
              0.7777777777777778,
              "#fb9f3a"
             ],
             [
              0.8888888888888888,
              "#fdca26"
             ],
             [
              1,
              "#f0f921"
             ]
            ],
            "type": "surface"
           }
          ],
          "table": [
           {
            "cells": {
             "fill": {
              "color": "#EBF0F8"
             },
             "line": {
              "color": "white"
             }
            },
            "header": {
             "fill": {
              "color": "#C8D4E3"
             },
             "line": {
              "color": "white"
             }
            },
            "type": "table"
           }
          ]
         },
         "layout": {
          "annotationdefaults": {
           "arrowcolor": "#2a3f5f",
           "arrowhead": 0,
           "arrowwidth": 1
          },
          "autotypenumbers": "strict",
          "coloraxis": {
           "colorbar": {
            "outlinewidth": 0,
            "ticks": ""
           }
          },
          "colorscale": {
           "diverging": [
            [
             0,
             "#8e0152"
            ],
            [
             0.1,
             "#c51b7d"
            ],
            [
             0.2,
             "#de77ae"
            ],
            [
             0.3,
             "#f1b6da"
            ],
            [
             0.4,
             "#fde0ef"
            ],
            [
             0.5,
             "#f7f7f7"
            ],
            [
             0.6,
             "#e6f5d0"
            ],
            [
             0.7,
             "#b8e186"
            ],
            [
             0.8,
             "#7fbc41"
            ],
            [
             0.9,
             "#4d9221"
            ],
            [
             1,
             "#276419"
            ]
           ],
           "sequential": [
            [
             0,
             "#0d0887"
            ],
            [
             0.1111111111111111,
             "#46039f"
            ],
            [
             0.2222222222222222,
             "#7201a8"
            ],
            [
             0.3333333333333333,
             "#9c179e"
            ],
            [
             0.4444444444444444,
             "#bd3786"
            ],
            [
             0.5555555555555556,
             "#d8576b"
            ],
            [
             0.6666666666666666,
             "#ed7953"
            ],
            [
             0.7777777777777778,
             "#fb9f3a"
            ],
            [
             0.8888888888888888,
             "#fdca26"
            ],
            [
             1,
             "#f0f921"
            ]
           ],
           "sequentialminus": [
            [
             0,
             "#0d0887"
            ],
            [
             0.1111111111111111,
             "#46039f"
            ],
            [
             0.2222222222222222,
             "#7201a8"
            ],
            [
             0.3333333333333333,
             "#9c179e"
            ],
            [
             0.4444444444444444,
             "#bd3786"
            ],
            [
             0.5555555555555556,
             "#d8576b"
            ],
            [
             0.6666666666666666,
             "#ed7953"
            ],
            [
             0.7777777777777778,
             "#fb9f3a"
            ],
            [
             0.8888888888888888,
             "#fdca26"
            ],
            [
             1,
             "#f0f921"
            ]
           ]
          },
          "colorway": [
           "#636efa",
           "#EF553B",
           "#00cc96",
           "#ab63fa",
           "#FFA15A",
           "#19d3f3",
           "#FF6692",
           "#B6E880",
           "#FF97FF",
           "#FECB52"
          ],
          "font": {
           "color": "#2a3f5f"
          },
          "geo": {
           "bgcolor": "white",
           "lakecolor": "white",
           "landcolor": "#E5ECF6",
           "showlakes": true,
           "showland": true,
           "subunitcolor": "white"
          },
          "hoverlabel": {
           "align": "left"
          },
          "hovermode": "closest",
          "mapbox": {
           "style": "light"
          },
          "paper_bgcolor": "white",
          "plot_bgcolor": "#E5ECF6",
          "polar": {
           "angularaxis": {
            "gridcolor": "white",
            "linecolor": "white",
            "ticks": ""
           },
           "bgcolor": "#E5ECF6",
           "radialaxis": {
            "gridcolor": "white",
            "linecolor": "white",
            "ticks": ""
           }
          },
          "scene": {
           "xaxis": {
            "backgroundcolor": "#E5ECF6",
            "gridcolor": "white",
            "gridwidth": 2,
            "linecolor": "white",
            "showbackground": true,
            "ticks": "",
            "zerolinecolor": "white"
           },
           "yaxis": {
            "backgroundcolor": "#E5ECF6",
            "gridcolor": "white",
            "gridwidth": 2,
            "linecolor": "white",
            "showbackground": true,
            "ticks": "",
            "zerolinecolor": "white"
           },
           "zaxis": {
            "backgroundcolor": "#E5ECF6",
            "gridcolor": "white",
            "gridwidth": 2,
            "linecolor": "white",
            "showbackground": true,
            "ticks": "",
            "zerolinecolor": "white"
           }
          },
          "shapedefaults": {
           "line": {
            "color": "#2a3f5f"
           }
          },
          "ternary": {
           "aaxis": {
            "gridcolor": "white",
            "linecolor": "white",
            "ticks": ""
           },
           "baxis": {
            "gridcolor": "white",
            "linecolor": "white",
            "ticks": ""
           },
           "bgcolor": "#E5ECF6",
           "caxis": {
            "gridcolor": "white",
            "linecolor": "white",
            "ticks": ""
           }
          },
          "title": {
           "x": 0.05
          },
          "xaxis": {
           "automargin": true,
           "gridcolor": "white",
           "linecolor": "white",
           "ticks": "",
           "title": {
            "standoff": 15
           },
           "zerolinecolor": "white",
           "zerolinewidth": 2
          },
          "yaxis": {
           "automargin": true,
           "gridcolor": "white",
           "linecolor": "white",
           "ticks": "",
           "title": {
            "standoff": 15
           },
           "zerolinecolor": "white",
           "zerolinewidth": 2
          }
         }
        },
        "title": {
         "text": "Candidate Hire Counts for Selected Option"
        },
        "xaxis": {
         "title": {
          "text": "Candidate"
         }
        },
        "yaxis": {
         "title": {
          "text": "Hire Count"
         }
        }
       }
      },
      "text/html": [
       "<div>                            <div id=\"91792106-97ed-4f95-83ca-af1e699a4c9a\" class=\"plotly-graph-div\" style=\"height:525px; width:100%;\"></div>            <script type=\"text/javascript\">                require([\"plotly\"], function(Plotly) {                    window.PLOTLYENV=window.PLOTLYENV || {};                                    if (document.getElementById(\"91792106-97ed-4f95-83ca-af1e699a4c9a\")) {                    Plotly.newPlot(                        \"91792106-97ed-4f95-83ca-af1e699a4c9a\",                        [{\"name\":\"Ciara Hire Count\",\"x\":[\"Ciara\"],\"y\":[0],\"type\":\"bar\"},{\"name\":\"Peter Hire Count\",\"x\":[\"Peter\"],\"y\":[0],\"type\":\"bar\"},{\"name\":\"Juan Hire Count\",\"x\":[\"Juan\"],\"y\":[2],\"type\":\"bar\"},{\"name\":\"Jim Hire Count\",\"x\":[\"Jim\"],\"y\":[2],\"type\":\"bar\"},{\"name\":\"Jane Hire Count\",\"x\":[\"Jane\"],\"y\":[2],\"type\":\"bar\"},{\"name\":\"Mary Hire Count\",\"x\":[\"Mary\"],\"y\":[0],\"type\":\"bar\"},{\"name\":\"Bruce Hire Count\",\"x\":[\"Bruce\"],\"y\":[1],\"type\":\"bar\"},{\"name\":\"Anita Hire Count\",\"x\":[\"Anita\"],\"y\":[1],\"type\":\"bar\"}],                        {\"template\":{\"data\":{\"histogram2dcontour\":[{\"type\":\"histogram2dcontour\",\"colorbar\":{\"outlinewidth\":0,\"ticks\":\"\"},\"colorscale\":[[0.0,\"#0d0887\"],[0.1111111111111111,\"#46039f\"],[0.2222222222222222,\"#7201a8\"],[0.3333333333333333,\"#9c179e\"],[0.4444444444444444,\"#bd3786\"],[0.5555555555555556,\"#d8576b\"],[0.6666666666666666,\"#ed7953\"],[0.7777777777777778,\"#fb9f3a\"],[0.8888888888888888,\"#fdca26\"],[1.0,\"#f0f921\"]]}],\"choropleth\":[{\"type\":\"choropleth\",\"colorbar\":{\"outlinewidth\":0,\"ticks\":\"\"}}],\"histogram2d\":[{\"type\":\"histogram2d\",\"colorbar\":{\"outlinewidth\":0,\"ticks\":\"\"},\"colorscale\":[[0.0,\"#0d0887\"],[0.1111111111111111,\"#46039f\"],[0.2222222222222222,\"#7201a8\"],[0.3333333333333333,\"#9c179e\"],[0.4444444444444444,\"#bd3786\"],[0.5555555555555556,\"#d8576b\"],[0.6666666666666666,\"#ed7953\"],[0.7777777777777778,\"#fb9f3a\"],[0.8888888888888888,\"#fdca26\"],[1.0,\"#f0f921\"]]}],\"heatmap\":[{\"type\":\"heatmap\",\"colorbar\":{\"outlinewidth\":0,\"ticks\":\"\"},\"colorscale\":[[0.0,\"#0d0887\"],[0.1111111111111111,\"#46039f\"],[0.2222222222222222,\"#7201a8\"],[0.3333333333333333,\"#9c179e\"],[0.4444444444444444,\"#bd3786\"],[0.5555555555555556,\"#d8576b\"],[0.6666666666666666,\"#ed7953\"],[0.7777777777777778,\"#fb9f3a\"],[0.8888888888888888,\"#fdca26\"],[1.0,\"#f0f921\"]]}],\"heatmapgl\":[{\"type\":\"heatmapgl\",\"colorbar\":{\"outlinewidth\":0,\"ticks\":\"\"},\"colorscale\":[[0.0,\"#0d0887\"],[0.1111111111111111,\"#46039f\"],[0.2222222222222222,\"#7201a8\"],[0.3333333333333333,\"#9c179e\"],[0.4444444444444444,\"#bd3786\"],[0.5555555555555556,\"#d8576b\"],[0.6666666666666666,\"#ed7953\"],[0.7777777777777778,\"#fb9f3a\"],[0.8888888888888888,\"#fdca26\"],[1.0,\"#f0f921\"]]}],\"contourcarpet\":[{\"type\":\"contourcarpet\",\"colorbar\":{\"outlinewidth\":0,\"ticks\":\"\"}}],\"contour\":[{\"type\":\"contour\",\"colorbar\":{\"outlinewidth\":0,\"ticks\":\"\"},\"colorscale\":[[0.0,\"#0d0887\"],[0.1111111111111111,\"#46039f\"],[0.2222222222222222,\"#7201a8\"],[0.3333333333333333,\"#9c179e\"],[0.4444444444444444,\"#bd3786\"],[0.5555555555555556,\"#d8576b\"],[0.6666666666666666,\"#ed7953\"],[0.7777777777777778,\"#fb9f3a\"],[0.8888888888888888,\"#fdca26\"],[1.0,\"#f0f921\"]]}],\"surface\":[{\"type\":\"surface\",\"colorbar\":{\"outlinewidth\":0,\"ticks\":\"\"},\"colorscale\":[[0.0,\"#0d0887\"],[0.1111111111111111,\"#46039f\"],[0.2222222222222222,\"#7201a8\"],[0.3333333333333333,\"#9c179e\"],[0.4444444444444444,\"#bd3786\"],[0.5555555555555556,\"#d8576b\"],[0.6666666666666666,\"#ed7953\"],[0.7777777777777778,\"#fb9f3a\"],[0.8888888888888888,\"#fdca26\"],[1.0,\"#f0f921\"]]}],\"mesh3d\":[{\"type\":\"mesh3d\",\"colorbar\":{\"outlinewidth\":0,\"ticks\":\"\"}}],\"scatter\":[{\"fillpattern\":{\"fillmode\":\"overlay\",\"size\":10,\"solidity\":0.2},\"type\":\"scatter\"}],\"parcoords\":[{\"type\":\"parcoords\",\"line\":{\"colorbar\":{\"outlinewidth\":0,\"ticks\":\"\"}}}],\"scatterpolargl\":[{\"type\":\"scatterpolargl\",\"marker\":{\"colorbar\":{\"outlinewidth\":0,\"ticks\":\"\"}}}],\"bar\":[{\"error_x\":{\"color\":\"#2a3f5f\"},\"error_y\":{\"color\":\"#2a3f5f\"},\"marker\":{\"line\":{\"color\":\"#E5ECF6\",\"width\":0.5},\"pattern\":{\"fillmode\":\"overlay\",\"size\":10,\"solidity\":0.2}},\"type\":\"bar\"}],\"scattergeo\":[{\"type\":\"scattergeo\",\"marker\":{\"colorbar\":{\"outlinewidth\":0,\"ticks\":\"\"}}}],\"scatterpolar\":[{\"type\":\"scatterpolar\",\"marker\":{\"colorbar\":{\"outlinewidth\":0,\"ticks\":\"\"}}}],\"histogram\":[{\"marker\":{\"pattern\":{\"fillmode\":\"overlay\",\"size\":10,\"solidity\":0.2}},\"type\":\"histogram\"}],\"scattergl\":[{\"type\":\"scattergl\",\"marker\":{\"colorbar\":{\"outlinewidth\":0,\"ticks\":\"\"}}}],\"scatter3d\":[{\"type\":\"scatter3d\",\"line\":{\"colorbar\":{\"outlinewidth\":0,\"ticks\":\"\"}},\"marker\":{\"colorbar\":{\"outlinewidth\":0,\"ticks\":\"\"}}}],\"scattermapbox\":[{\"type\":\"scattermapbox\",\"marker\":{\"colorbar\":{\"outlinewidth\":0,\"ticks\":\"\"}}}],\"scatterternary\":[{\"type\":\"scatterternary\",\"marker\":{\"colorbar\":{\"outlinewidth\":0,\"ticks\":\"\"}}}],\"scattercarpet\":[{\"type\":\"scattercarpet\",\"marker\":{\"colorbar\":{\"outlinewidth\":0,\"ticks\":\"\"}}}],\"carpet\":[{\"aaxis\":{\"endlinecolor\":\"#2a3f5f\",\"gridcolor\":\"white\",\"linecolor\":\"white\",\"minorgridcolor\":\"white\",\"startlinecolor\":\"#2a3f5f\"},\"baxis\":{\"endlinecolor\":\"#2a3f5f\",\"gridcolor\":\"white\",\"linecolor\":\"white\",\"minorgridcolor\":\"white\",\"startlinecolor\":\"#2a3f5f\"},\"type\":\"carpet\"}],\"table\":[{\"cells\":{\"fill\":{\"color\":\"#EBF0F8\"},\"line\":{\"color\":\"white\"}},\"header\":{\"fill\":{\"color\":\"#C8D4E3\"},\"line\":{\"color\":\"white\"}},\"type\":\"table\"}],\"barpolar\":[{\"marker\":{\"line\":{\"color\":\"#E5ECF6\",\"width\":0.5},\"pattern\":{\"fillmode\":\"overlay\",\"size\":10,\"solidity\":0.2}},\"type\":\"barpolar\"}],\"pie\":[{\"automargin\":true,\"type\":\"pie\"}]},\"layout\":{\"autotypenumbers\":\"strict\",\"colorway\":[\"#636efa\",\"#EF553B\",\"#00cc96\",\"#ab63fa\",\"#FFA15A\",\"#19d3f3\",\"#FF6692\",\"#B6E880\",\"#FF97FF\",\"#FECB52\"],\"font\":{\"color\":\"#2a3f5f\"},\"hovermode\":\"closest\",\"hoverlabel\":{\"align\":\"left\"},\"paper_bgcolor\":\"white\",\"plot_bgcolor\":\"#E5ECF6\",\"polar\":{\"bgcolor\":\"#E5ECF6\",\"angularaxis\":{\"gridcolor\":\"white\",\"linecolor\":\"white\",\"ticks\":\"\"},\"radialaxis\":{\"gridcolor\":\"white\",\"linecolor\":\"white\",\"ticks\":\"\"}},\"ternary\":{\"bgcolor\":\"#E5ECF6\",\"aaxis\":{\"gridcolor\":\"white\",\"linecolor\":\"white\",\"ticks\":\"\"},\"baxis\":{\"gridcolor\":\"white\",\"linecolor\":\"white\",\"ticks\":\"\"},\"caxis\":{\"gridcolor\":\"white\",\"linecolor\":\"white\",\"ticks\":\"\"}},\"coloraxis\":{\"colorbar\":{\"outlinewidth\":0,\"ticks\":\"\"}},\"colorscale\":{\"sequential\":[[0.0,\"#0d0887\"],[0.1111111111111111,\"#46039f\"],[0.2222222222222222,\"#7201a8\"],[0.3333333333333333,\"#9c179e\"],[0.4444444444444444,\"#bd3786\"],[0.5555555555555556,\"#d8576b\"],[0.6666666666666666,\"#ed7953\"],[0.7777777777777778,\"#fb9f3a\"],[0.8888888888888888,\"#fdca26\"],[1.0,\"#f0f921\"]],\"sequentialminus\":[[0.0,\"#0d0887\"],[0.1111111111111111,\"#46039f\"],[0.2222222222222222,\"#7201a8\"],[0.3333333333333333,\"#9c179e\"],[0.4444444444444444,\"#bd3786\"],[0.5555555555555556,\"#d8576b\"],[0.6666666666666666,\"#ed7953\"],[0.7777777777777778,\"#fb9f3a\"],[0.8888888888888888,\"#fdca26\"],[1.0,\"#f0f921\"]],\"diverging\":[[0,\"#8e0152\"],[0.1,\"#c51b7d\"],[0.2,\"#de77ae\"],[0.3,\"#f1b6da\"],[0.4,\"#fde0ef\"],[0.5,\"#f7f7f7\"],[0.6,\"#e6f5d0\"],[0.7,\"#b8e186\"],[0.8,\"#7fbc41\"],[0.9,\"#4d9221\"],[1,\"#276419\"]]},\"xaxis\":{\"gridcolor\":\"white\",\"linecolor\":\"white\",\"ticks\":\"\",\"title\":{\"standoff\":15},\"zerolinecolor\":\"white\",\"automargin\":true,\"zerolinewidth\":2},\"yaxis\":{\"gridcolor\":\"white\",\"linecolor\":\"white\",\"ticks\":\"\",\"title\":{\"standoff\":15},\"zerolinecolor\":\"white\",\"automargin\":true,\"zerolinewidth\":2},\"scene\":{\"xaxis\":{\"backgroundcolor\":\"#E5ECF6\",\"gridcolor\":\"white\",\"linecolor\":\"white\",\"showbackground\":true,\"ticks\":\"\",\"zerolinecolor\":\"white\",\"gridwidth\":2},\"yaxis\":{\"backgroundcolor\":\"#E5ECF6\",\"gridcolor\":\"white\",\"linecolor\":\"white\",\"showbackground\":true,\"ticks\":\"\",\"zerolinecolor\":\"white\",\"gridwidth\":2},\"zaxis\":{\"backgroundcolor\":\"#E5ECF6\",\"gridcolor\":\"white\",\"linecolor\":\"white\",\"showbackground\":true,\"ticks\":\"\",\"zerolinecolor\":\"white\",\"gridwidth\":2}},\"shapedefaults\":{\"line\":{\"color\":\"#2a3f5f\"}},\"annotationdefaults\":{\"arrowcolor\":\"#2a3f5f\",\"arrowhead\":0,\"arrowwidth\":1},\"geo\":{\"bgcolor\":\"white\",\"landcolor\":\"#E5ECF6\",\"subunitcolor\":\"white\",\"showland\":true,\"showlakes\":true,\"lakecolor\":\"white\"},\"title\":{\"x\":0.05},\"mapbox\":{\"style\":\"light\"}}},\"title\":{\"text\":\"Candidate Hire Counts for Selected Option\"},\"xaxis\":{\"title\":{\"text\":\"Candidate\"}},\"yaxis\":{\"title\":{\"text\":\"Hire Count\"}},\"barmode\":\"stack\"},                        {\"responsive\": true}                    ).then(function(){\n",
       "                            \n",
       "var gd = document.getElementById('91792106-97ed-4f95-83ca-af1e699a4c9a');\n",
       "var x = new MutationObserver(function (mutations, observer) {{\n",
       "        var display = window.getComputedStyle(gd).display;\n",
       "        if (!display || display === 'none') {{\n",
       "            console.log([gd, 'removed!']);\n",
       "            Plotly.purge(gd);\n",
       "            observer.disconnect();\n",
       "        }}\n",
       "}});\n",
       "\n",
       "// Listen for the removal of the full notebook cells\n",
       "var notebookContainer = gd.closest('#notebook-container');\n",
       "if (notebookContainer) {{\n",
       "    x.observe(notebookContainer, {childList: true});\n",
       "}}\n",
       "\n",
       "// Listen for the clearing of the current output cell\n",
       "var outputEl = gd.closest('.output');\n",
       "if (outputEl) {{\n",
       "    x.observe(outputEl, {childList: true});\n",
       "}}\n",
       "\n",
       "                        })                };                });            </script>        </div>"
      ]
     },
     "metadata": {},
     "output_type": "display_data"
    },
    {
     "data": {
      "application/vnd.plotly.v1+json": {
       "config": {
        "plotlyServerURL": "https://plot.ly"
       },
       "data": [
        {
         "name": "Ciara Hire Count",
         "type": "bar",
         "x": [
          "Ciara"
         ],
         "y": [
          0
         ]
        },
        {
         "name": "Peter Hire Count",
         "type": "bar",
         "x": [
          "Peter"
         ],
         "y": [
          0
         ]
        },
        {
         "name": "Juan Hire Count",
         "type": "bar",
         "x": [
          "Juan"
         ],
         "y": [
          1
         ]
        },
        {
         "name": "Jim Hire Count",
         "type": "bar",
         "x": [
          "Jim"
         ],
         "y": [
          2
         ]
        },
        {
         "name": "Jane Hire Count",
         "type": "bar",
         "x": [
          "Jane"
         ],
         "y": [
          2
         ]
        },
        {
         "name": "Mary Hire Count",
         "type": "bar",
         "x": [
          "Mary"
         ],
         "y": [
          0
         ]
        },
        {
         "name": "Bruce Hire Count",
         "type": "bar",
         "x": [
          "Bruce"
         ],
         "y": [
          1
         ]
        },
        {
         "name": "Anita Hire Count",
         "type": "bar",
         "x": [
          "Anita"
         ],
         "y": [
          2
         ]
        }
       ],
       "layout": {
        "barmode": "stack",
        "template": {
         "data": {
          "bar": [
           {
            "error_x": {
             "color": "#2a3f5f"
            },
            "error_y": {
             "color": "#2a3f5f"
            },
            "marker": {
             "line": {
              "color": "#E5ECF6",
              "width": 0.5
             },
             "pattern": {
              "fillmode": "overlay",
              "size": 10,
              "solidity": 0.2
             }
            },
            "type": "bar"
           }
          ],
          "barpolar": [
           {
            "marker": {
             "line": {
              "color": "#E5ECF6",
              "width": 0.5
             },
             "pattern": {
              "fillmode": "overlay",
              "size": 10,
              "solidity": 0.2
             }
            },
            "type": "barpolar"
           }
          ],
          "carpet": [
           {
            "aaxis": {
             "endlinecolor": "#2a3f5f",
             "gridcolor": "white",
             "linecolor": "white",
             "minorgridcolor": "white",
             "startlinecolor": "#2a3f5f"
            },
            "baxis": {
             "endlinecolor": "#2a3f5f",
             "gridcolor": "white",
             "linecolor": "white",
             "minorgridcolor": "white",
             "startlinecolor": "#2a3f5f"
            },
            "type": "carpet"
           }
          ],
          "choropleth": [
           {
            "colorbar": {
             "outlinewidth": 0,
             "ticks": ""
            },
            "type": "choropleth"
           }
          ],
          "contour": [
           {
            "colorbar": {
             "outlinewidth": 0,
             "ticks": ""
            },
            "colorscale": [
             [
              0,
              "#0d0887"
             ],
             [
              0.1111111111111111,
              "#46039f"
             ],
             [
              0.2222222222222222,
              "#7201a8"
             ],
             [
              0.3333333333333333,
              "#9c179e"
             ],
             [
              0.4444444444444444,
              "#bd3786"
             ],
             [
              0.5555555555555556,
              "#d8576b"
             ],
             [
              0.6666666666666666,
              "#ed7953"
             ],
             [
              0.7777777777777778,
              "#fb9f3a"
             ],
             [
              0.8888888888888888,
              "#fdca26"
             ],
             [
              1,
              "#f0f921"
             ]
            ],
            "type": "contour"
           }
          ],
          "contourcarpet": [
           {
            "colorbar": {
             "outlinewidth": 0,
             "ticks": ""
            },
            "type": "contourcarpet"
           }
          ],
          "heatmap": [
           {
            "colorbar": {
             "outlinewidth": 0,
             "ticks": ""
            },
            "colorscale": [
             [
              0,
              "#0d0887"
             ],
             [
              0.1111111111111111,
              "#46039f"
             ],
             [
              0.2222222222222222,
              "#7201a8"
             ],
             [
              0.3333333333333333,
              "#9c179e"
             ],
             [
              0.4444444444444444,
              "#bd3786"
             ],
             [
              0.5555555555555556,
              "#d8576b"
             ],
             [
              0.6666666666666666,
              "#ed7953"
             ],
             [
              0.7777777777777778,
              "#fb9f3a"
             ],
             [
              0.8888888888888888,
              "#fdca26"
             ],
             [
              1,
              "#f0f921"
             ]
            ],
            "type": "heatmap"
           }
          ],
          "heatmapgl": [
           {
            "colorbar": {
             "outlinewidth": 0,
             "ticks": ""
            },
            "colorscale": [
             [
              0,
              "#0d0887"
             ],
             [
              0.1111111111111111,
              "#46039f"
             ],
             [
              0.2222222222222222,
              "#7201a8"
             ],
             [
              0.3333333333333333,
              "#9c179e"
             ],
             [
              0.4444444444444444,
              "#bd3786"
             ],
             [
              0.5555555555555556,
              "#d8576b"
             ],
             [
              0.6666666666666666,
              "#ed7953"
             ],
             [
              0.7777777777777778,
              "#fb9f3a"
             ],
             [
              0.8888888888888888,
              "#fdca26"
             ],
             [
              1,
              "#f0f921"
             ]
            ],
            "type": "heatmapgl"
           }
          ],
          "histogram": [
           {
            "marker": {
             "pattern": {
              "fillmode": "overlay",
              "size": 10,
              "solidity": 0.2
             }
            },
            "type": "histogram"
           }
          ],
          "histogram2d": [
           {
            "colorbar": {
             "outlinewidth": 0,
             "ticks": ""
            },
            "colorscale": [
             [
              0,
              "#0d0887"
             ],
             [
              0.1111111111111111,
              "#46039f"
             ],
             [
              0.2222222222222222,
              "#7201a8"
             ],
             [
              0.3333333333333333,
              "#9c179e"
             ],
             [
              0.4444444444444444,
              "#bd3786"
             ],
             [
              0.5555555555555556,
              "#d8576b"
             ],
             [
              0.6666666666666666,
              "#ed7953"
             ],
             [
              0.7777777777777778,
              "#fb9f3a"
             ],
             [
              0.8888888888888888,
              "#fdca26"
             ],
             [
              1,
              "#f0f921"
             ]
            ],
            "type": "histogram2d"
           }
          ],
          "histogram2dcontour": [
           {
            "colorbar": {
             "outlinewidth": 0,
             "ticks": ""
            },
            "colorscale": [
             [
              0,
              "#0d0887"
             ],
             [
              0.1111111111111111,
              "#46039f"
             ],
             [
              0.2222222222222222,
              "#7201a8"
             ],
             [
              0.3333333333333333,
              "#9c179e"
             ],
             [
              0.4444444444444444,
              "#bd3786"
             ],
             [
              0.5555555555555556,
              "#d8576b"
             ],
             [
              0.6666666666666666,
              "#ed7953"
             ],
             [
              0.7777777777777778,
              "#fb9f3a"
             ],
             [
              0.8888888888888888,
              "#fdca26"
             ],
             [
              1,
              "#f0f921"
             ]
            ],
            "type": "histogram2dcontour"
           }
          ],
          "mesh3d": [
           {
            "colorbar": {
             "outlinewidth": 0,
             "ticks": ""
            },
            "type": "mesh3d"
           }
          ],
          "parcoords": [
           {
            "line": {
             "colorbar": {
              "outlinewidth": 0,
              "ticks": ""
             }
            },
            "type": "parcoords"
           }
          ],
          "pie": [
           {
            "automargin": true,
            "type": "pie"
           }
          ],
          "scatter": [
           {
            "fillpattern": {
             "fillmode": "overlay",
             "size": 10,
             "solidity": 0.2
            },
            "type": "scatter"
           }
          ],
          "scatter3d": [
           {
            "line": {
             "colorbar": {
              "outlinewidth": 0,
              "ticks": ""
             }
            },
            "marker": {
             "colorbar": {
              "outlinewidth": 0,
              "ticks": ""
             }
            },
            "type": "scatter3d"
           }
          ],
          "scattercarpet": [
           {
            "marker": {
             "colorbar": {
              "outlinewidth": 0,
              "ticks": ""
             }
            },
            "type": "scattercarpet"
           }
          ],
          "scattergeo": [
           {
            "marker": {
             "colorbar": {
              "outlinewidth": 0,
              "ticks": ""
             }
            },
            "type": "scattergeo"
           }
          ],
          "scattergl": [
           {
            "marker": {
             "colorbar": {
              "outlinewidth": 0,
              "ticks": ""
             }
            },
            "type": "scattergl"
           }
          ],
          "scattermapbox": [
           {
            "marker": {
             "colorbar": {
              "outlinewidth": 0,
              "ticks": ""
             }
            },
            "type": "scattermapbox"
           }
          ],
          "scatterpolar": [
           {
            "marker": {
             "colorbar": {
              "outlinewidth": 0,
              "ticks": ""
             }
            },
            "type": "scatterpolar"
           }
          ],
          "scatterpolargl": [
           {
            "marker": {
             "colorbar": {
              "outlinewidth": 0,
              "ticks": ""
             }
            },
            "type": "scatterpolargl"
           }
          ],
          "scatterternary": [
           {
            "marker": {
             "colorbar": {
              "outlinewidth": 0,
              "ticks": ""
             }
            },
            "type": "scatterternary"
           }
          ],
          "surface": [
           {
            "colorbar": {
             "outlinewidth": 0,
             "ticks": ""
            },
            "colorscale": [
             [
              0,
              "#0d0887"
             ],
             [
              0.1111111111111111,
              "#46039f"
             ],
             [
              0.2222222222222222,
              "#7201a8"
             ],
             [
              0.3333333333333333,
              "#9c179e"
             ],
             [
              0.4444444444444444,
              "#bd3786"
             ],
             [
              0.5555555555555556,
              "#d8576b"
             ],
             [
              0.6666666666666666,
              "#ed7953"
             ],
             [
              0.7777777777777778,
              "#fb9f3a"
             ],
             [
              0.8888888888888888,
              "#fdca26"
             ],
             [
              1,
              "#f0f921"
             ]
            ],
            "type": "surface"
           }
          ],
          "table": [
           {
            "cells": {
             "fill": {
              "color": "#EBF0F8"
             },
             "line": {
              "color": "white"
             }
            },
            "header": {
             "fill": {
              "color": "#C8D4E3"
             },
             "line": {
              "color": "white"
             }
            },
            "type": "table"
           }
          ]
         },
         "layout": {
          "annotationdefaults": {
           "arrowcolor": "#2a3f5f",
           "arrowhead": 0,
           "arrowwidth": 1
          },
          "autotypenumbers": "strict",
          "coloraxis": {
           "colorbar": {
            "outlinewidth": 0,
            "ticks": ""
           }
          },
          "colorscale": {
           "diverging": [
            [
             0,
             "#8e0152"
            ],
            [
             0.1,
             "#c51b7d"
            ],
            [
             0.2,
             "#de77ae"
            ],
            [
             0.3,
             "#f1b6da"
            ],
            [
             0.4,
             "#fde0ef"
            ],
            [
             0.5,
             "#f7f7f7"
            ],
            [
             0.6,
             "#e6f5d0"
            ],
            [
             0.7,
             "#b8e186"
            ],
            [
             0.8,
             "#7fbc41"
            ],
            [
             0.9,
             "#4d9221"
            ],
            [
             1,
             "#276419"
            ]
           ],
           "sequential": [
            [
             0,
             "#0d0887"
            ],
            [
             0.1111111111111111,
             "#46039f"
            ],
            [
             0.2222222222222222,
             "#7201a8"
            ],
            [
             0.3333333333333333,
             "#9c179e"
            ],
            [
             0.4444444444444444,
             "#bd3786"
            ],
            [
             0.5555555555555556,
             "#d8576b"
            ],
            [
             0.6666666666666666,
             "#ed7953"
            ],
            [
             0.7777777777777778,
             "#fb9f3a"
            ],
            [
             0.8888888888888888,
             "#fdca26"
            ],
            [
             1,
             "#f0f921"
            ]
           ],
           "sequentialminus": [
            [
             0,
             "#0d0887"
            ],
            [
             0.1111111111111111,
             "#46039f"
            ],
            [
             0.2222222222222222,
             "#7201a8"
            ],
            [
             0.3333333333333333,
             "#9c179e"
            ],
            [
             0.4444444444444444,
             "#bd3786"
            ],
            [
             0.5555555555555556,
             "#d8576b"
            ],
            [
             0.6666666666666666,
             "#ed7953"
            ],
            [
             0.7777777777777778,
             "#fb9f3a"
            ],
            [
             0.8888888888888888,
             "#fdca26"
            ],
            [
             1,
             "#f0f921"
            ]
           ]
          },
          "colorway": [
           "#636efa",
           "#EF553B",
           "#00cc96",
           "#ab63fa",
           "#FFA15A",
           "#19d3f3",
           "#FF6692",
           "#B6E880",
           "#FF97FF",
           "#FECB52"
          ],
          "font": {
           "color": "#2a3f5f"
          },
          "geo": {
           "bgcolor": "white",
           "lakecolor": "white",
           "landcolor": "#E5ECF6",
           "showlakes": true,
           "showland": true,
           "subunitcolor": "white"
          },
          "hoverlabel": {
           "align": "left"
          },
          "hovermode": "closest",
          "mapbox": {
           "style": "light"
          },
          "paper_bgcolor": "white",
          "plot_bgcolor": "#E5ECF6",
          "polar": {
           "angularaxis": {
            "gridcolor": "white",
            "linecolor": "white",
            "ticks": ""
           },
           "bgcolor": "#E5ECF6",
           "radialaxis": {
            "gridcolor": "white",
            "linecolor": "white",
            "ticks": ""
           }
          },
          "scene": {
           "xaxis": {
            "backgroundcolor": "#E5ECF6",
            "gridcolor": "white",
            "gridwidth": 2,
            "linecolor": "white",
            "showbackground": true,
            "ticks": "",
            "zerolinecolor": "white"
           },
           "yaxis": {
            "backgroundcolor": "#E5ECF6",
            "gridcolor": "white",
            "gridwidth": 2,
            "linecolor": "white",
            "showbackground": true,
            "ticks": "",
            "zerolinecolor": "white"
           },
           "zaxis": {
            "backgroundcolor": "#E5ECF6",
            "gridcolor": "white",
            "gridwidth": 2,
            "linecolor": "white",
            "showbackground": true,
            "ticks": "",
            "zerolinecolor": "white"
           }
          },
          "shapedefaults": {
           "line": {
            "color": "#2a3f5f"
           }
          },
          "ternary": {
           "aaxis": {
            "gridcolor": "white",
            "linecolor": "white",
            "ticks": ""
           },
           "baxis": {
            "gridcolor": "white",
            "linecolor": "white",
            "ticks": ""
           },
           "bgcolor": "#E5ECF6",
           "caxis": {
            "gridcolor": "white",
            "linecolor": "white",
            "ticks": ""
           }
          },
          "title": {
           "x": 0.05
          },
          "xaxis": {
           "automargin": true,
           "gridcolor": "white",
           "linecolor": "white",
           "ticks": "",
           "title": {
            "standoff": 15
           },
           "zerolinecolor": "white",
           "zerolinewidth": 2
          },
          "yaxis": {
           "automargin": true,
           "gridcolor": "white",
           "linecolor": "white",
           "ticks": "",
           "title": {
            "standoff": 15
           },
           "zerolinecolor": "white",
           "zerolinewidth": 2
          }
         }
        },
        "title": {
         "text": "Candidate Hire Counts for Selected Option"
        },
        "xaxis": {
         "title": {
          "text": "Candidate"
         }
        },
        "yaxis": {
         "title": {
          "text": "Hire Count"
         }
        }
       }
      },
      "text/html": [
       "<div>                            <div id=\"bdc059d1-0b3c-463a-b7f5-8e1b0175a3a7\" class=\"plotly-graph-div\" style=\"height:525px; width:100%;\"></div>            <script type=\"text/javascript\">                require([\"plotly\"], function(Plotly) {                    window.PLOTLYENV=window.PLOTLYENV || {};                                    if (document.getElementById(\"bdc059d1-0b3c-463a-b7f5-8e1b0175a3a7\")) {                    Plotly.newPlot(                        \"bdc059d1-0b3c-463a-b7f5-8e1b0175a3a7\",                        [{\"name\":\"Ciara Hire Count\",\"x\":[\"Ciara\"],\"y\":[0],\"type\":\"bar\"},{\"name\":\"Peter Hire Count\",\"x\":[\"Peter\"],\"y\":[0],\"type\":\"bar\"},{\"name\":\"Juan Hire Count\",\"x\":[\"Juan\"],\"y\":[1],\"type\":\"bar\"},{\"name\":\"Jim Hire Count\",\"x\":[\"Jim\"],\"y\":[2],\"type\":\"bar\"},{\"name\":\"Jane Hire Count\",\"x\":[\"Jane\"],\"y\":[2],\"type\":\"bar\"},{\"name\":\"Mary Hire Count\",\"x\":[\"Mary\"],\"y\":[0],\"type\":\"bar\"},{\"name\":\"Bruce Hire Count\",\"x\":[\"Bruce\"],\"y\":[1],\"type\":\"bar\"},{\"name\":\"Anita Hire Count\",\"x\":[\"Anita\"],\"y\":[2],\"type\":\"bar\"}],                        {\"template\":{\"data\":{\"histogram2dcontour\":[{\"type\":\"histogram2dcontour\",\"colorbar\":{\"outlinewidth\":0,\"ticks\":\"\"},\"colorscale\":[[0.0,\"#0d0887\"],[0.1111111111111111,\"#46039f\"],[0.2222222222222222,\"#7201a8\"],[0.3333333333333333,\"#9c179e\"],[0.4444444444444444,\"#bd3786\"],[0.5555555555555556,\"#d8576b\"],[0.6666666666666666,\"#ed7953\"],[0.7777777777777778,\"#fb9f3a\"],[0.8888888888888888,\"#fdca26\"],[1.0,\"#f0f921\"]]}],\"choropleth\":[{\"type\":\"choropleth\",\"colorbar\":{\"outlinewidth\":0,\"ticks\":\"\"}}],\"histogram2d\":[{\"type\":\"histogram2d\",\"colorbar\":{\"outlinewidth\":0,\"ticks\":\"\"},\"colorscale\":[[0.0,\"#0d0887\"],[0.1111111111111111,\"#46039f\"],[0.2222222222222222,\"#7201a8\"],[0.3333333333333333,\"#9c179e\"],[0.4444444444444444,\"#bd3786\"],[0.5555555555555556,\"#d8576b\"],[0.6666666666666666,\"#ed7953\"],[0.7777777777777778,\"#fb9f3a\"],[0.8888888888888888,\"#fdca26\"],[1.0,\"#f0f921\"]]}],\"heatmap\":[{\"type\":\"heatmap\",\"colorbar\":{\"outlinewidth\":0,\"ticks\":\"\"},\"colorscale\":[[0.0,\"#0d0887\"],[0.1111111111111111,\"#46039f\"],[0.2222222222222222,\"#7201a8\"],[0.3333333333333333,\"#9c179e\"],[0.4444444444444444,\"#bd3786\"],[0.5555555555555556,\"#d8576b\"],[0.6666666666666666,\"#ed7953\"],[0.7777777777777778,\"#fb9f3a\"],[0.8888888888888888,\"#fdca26\"],[1.0,\"#f0f921\"]]}],\"heatmapgl\":[{\"type\":\"heatmapgl\",\"colorbar\":{\"outlinewidth\":0,\"ticks\":\"\"},\"colorscale\":[[0.0,\"#0d0887\"],[0.1111111111111111,\"#46039f\"],[0.2222222222222222,\"#7201a8\"],[0.3333333333333333,\"#9c179e\"],[0.4444444444444444,\"#bd3786\"],[0.5555555555555556,\"#d8576b\"],[0.6666666666666666,\"#ed7953\"],[0.7777777777777778,\"#fb9f3a\"],[0.8888888888888888,\"#fdca26\"],[1.0,\"#f0f921\"]]}],\"contourcarpet\":[{\"type\":\"contourcarpet\",\"colorbar\":{\"outlinewidth\":0,\"ticks\":\"\"}}],\"contour\":[{\"type\":\"contour\",\"colorbar\":{\"outlinewidth\":0,\"ticks\":\"\"},\"colorscale\":[[0.0,\"#0d0887\"],[0.1111111111111111,\"#46039f\"],[0.2222222222222222,\"#7201a8\"],[0.3333333333333333,\"#9c179e\"],[0.4444444444444444,\"#bd3786\"],[0.5555555555555556,\"#d8576b\"],[0.6666666666666666,\"#ed7953\"],[0.7777777777777778,\"#fb9f3a\"],[0.8888888888888888,\"#fdca26\"],[1.0,\"#f0f921\"]]}],\"surface\":[{\"type\":\"surface\",\"colorbar\":{\"outlinewidth\":0,\"ticks\":\"\"},\"colorscale\":[[0.0,\"#0d0887\"],[0.1111111111111111,\"#46039f\"],[0.2222222222222222,\"#7201a8\"],[0.3333333333333333,\"#9c179e\"],[0.4444444444444444,\"#bd3786\"],[0.5555555555555556,\"#d8576b\"],[0.6666666666666666,\"#ed7953\"],[0.7777777777777778,\"#fb9f3a\"],[0.8888888888888888,\"#fdca26\"],[1.0,\"#f0f921\"]]}],\"mesh3d\":[{\"type\":\"mesh3d\",\"colorbar\":{\"outlinewidth\":0,\"ticks\":\"\"}}],\"scatter\":[{\"fillpattern\":{\"fillmode\":\"overlay\",\"size\":10,\"solidity\":0.2},\"type\":\"scatter\"}],\"parcoords\":[{\"type\":\"parcoords\",\"line\":{\"colorbar\":{\"outlinewidth\":0,\"ticks\":\"\"}}}],\"scatterpolargl\":[{\"type\":\"scatterpolargl\",\"marker\":{\"colorbar\":{\"outlinewidth\":0,\"ticks\":\"\"}}}],\"bar\":[{\"error_x\":{\"color\":\"#2a3f5f\"},\"error_y\":{\"color\":\"#2a3f5f\"},\"marker\":{\"line\":{\"color\":\"#E5ECF6\",\"width\":0.5},\"pattern\":{\"fillmode\":\"overlay\",\"size\":10,\"solidity\":0.2}},\"type\":\"bar\"}],\"scattergeo\":[{\"type\":\"scattergeo\",\"marker\":{\"colorbar\":{\"outlinewidth\":0,\"ticks\":\"\"}}}],\"scatterpolar\":[{\"type\":\"scatterpolar\",\"marker\":{\"colorbar\":{\"outlinewidth\":0,\"ticks\":\"\"}}}],\"histogram\":[{\"marker\":{\"pattern\":{\"fillmode\":\"overlay\",\"size\":10,\"solidity\":0.2}},\"type\":\"histogram\"}],\"scattergl\":[{\"type\":\"scattergl\",\"marker\":{\"colorbar\":{\"outlinewidth\":0,\"ticks\":\"\"}}}],\"scatter3d\":[{\"type\":\"scatter3d\",\"line\":{\"colorbar\":{\"outlinewidth\":0,\"ticks\":\"\"}},\"marker\":{\"colorbar\":{\"outlinewidth\":0,\"ticks\":\"\"}}}],\"scattermapbox\":[{\"type\":\"scattermapbox\",\"marker\":{\"colorbar\":{\"outlinewidth\":0,\"ticks\":\"\"}}}],\"scatterternary\":[{\"type\":\"scatterternary\",\"marker\":{\"colorbar\":{\"outlinewidth\":0,\"ticks\":\"\"}}}],\"scattercarpet\":[{\"type\":\"scattercarpet\",\"marker\":{\"colorbar\":{\"outlinewidth\":0,\"ticks\":\"\"}}}],\"carpet\":[{\"aaxis\":{\"endlinecolor\":\"#2a3f5f\",\"gridcolor\":\"white\",\"linecolor\":\"white\",\"minorgridcolor\":\"white\",\"startlinecolor\":\"#2a3f5f\"},\"baxis\":{\"endlinecolor\":\"#2a3f5f\",\"gridcolor\":\"white\",\"linecolor\":\"white\",\"minorgridcolor\":\"white\",\"startlinecolor\":\"#2a3f5f\"},\"type\":\"carpet\"}],\"table\":[{\"cells\":{\"fill\":{\"color\":\"#EBF0F8\"},\"line\":{\"color\":\"white\"}},\"header\":{\"fill\":{\"color\":\"#C8D4E3\"},\"line\":{\"color\":\"white\"}},\"type\":\"table\"}],\"barpolar\":[{\"marker\":{\"line\":{\"color\":\"#E5ECF6\",\"width\":0.5},\"pattern\":{\"fillmode\":\"overlay\",\"size\":10,\"solidity\":0.2}},\"type\":\"barpolar\"}],\"pie\":[{\"automargin\":true,\"type\":\"pie\"}]},\"layout\":{\"autotypenumbers\":\"strict\",\"colorway\":[\"#636efa\",\"#EF553B\",\"#00cc96\",\"#ab63fa\",\"#FFA15A\",\"#19d3f3\",\"#FF6692\",\"#B6E880\",\"#FF97FF\",\"#FECB52\"],\"font\":{\"color\":\"#2a3f5f\"},\"hovermode\":\"closest\",\"hoverlabel\":{\"align\":\"left\"},\"paper_bgcolor\":\"white\",\"plot_bgcolor\":\"#E5ECF6\",\"polar\":{\"bgcolor\":\"#E5ECF6\",\"angularaxis\":{\"gridcolor\":\"white\",\"linecolor\":\"white\",\"ticks\":\"\"},\"radialaxis\":{\"gridcolor\":\"white\",\"linecolor\":\"white\",\"ticks\":\"\"}},\"ternary\":{\"bgcolor\":\"#E5ECF6\",\"aaxis\":{\"gridcolor\":\"white\",\"linecolor\":\"white\",\"ticks\":\"\"},\"baxis\":{\"gridcolor\":\"white\",\"linecolor\":\"white\",\"ticks\":\"\"},\"caxis\":{\"gridcolor\":\"white\",\"linecolor\":\"white\",\"ticks\":\"\"}},\"coloraxis\":{\"colorbar\":{\"outlinewidth\":0,\"ticks\":\"\"}},\"colorscale\":{\"sequential\":[[0.0,\"#0d0887\"],[0.1111111111111111,\"#46039f\"],[0.2222222222222222,\"#7201a8\"],[0.3333333333333333,\"#9c179e\"],[0.4444444444444444,\"#bd3786\"],[0.5555555555555556,\"#d8576b\"],[0.6666666666666666,\"#ed7953\"],[0.7777777777777778,\"#fb9f3a\"],[0.8888888888888888,\"#fdca26\"],[1.0,\"#f0f921\"]],\"sequentialminus\":[[0.0,\"#0d0887\"],[0.1111111111111111,\"#46039f\"],[0.2222222222222222,\"#7201a8\"],[0.3333333333333333,\"#9c179e\"],[0.4444444444444444,\"#bd3786\"],[0.5555555555555556,\"#d8576b\"],[0.6666666666666666,\"#ed7953\"],[0.7777777777777778,\"#fb9f3a\"],[0.8888888888888888,\"#fdca26\"],[1.0,\"#f0f921\"]],\"diverging\":[[0,\"#8e0152\"],[0.1,\"#c51b7d\"],[0.2,\"#de77ae\"],[0.3,\"#f1b6da\"],[0.4,\"#fde0ef\"],[0.5,\"#f7f7f7\"],[0.6,\"#e6f5d0\"],[0.7,\"#b8e186\"],[0.8,\"#7fbc41\"],[0.9,\"#4d9221\"],[1,\"#276419\"]]},\"xaxis\":{\"gridcolor\":\"white\",\"linecolor\":\"white\",\"ticks\":\"\",\"title\":{\"standoff\":15},\"zerolinecolor\":\"white\",\"automargin\":true,\"zerolinewidth\":2},\"yaxis\":{\"gridcolor\":\"white\",\"linecolor\":\"white\",\"ticks\":\"\",\"title\":{\"standoff\":15},\"zerolinecolor\":\"white\",\"automargin\":true,\"zerolinewidth\":2},\"scene\":{\"xaxis\":{\"backgroundcolor\":\"#E5ECF6\",\"gridcolor\":\"white\",\"linecolor\":\"white\",\"showbackground\":true,\"ticks\":\"\",\"zerolinecolor\":\"white\",\"gridwidth\":2},\"yaxis\":{\"backgroundcolor\":\"#E5ECF6\",\"gridcolor\":\"white\",\"linecolor\":\"white\",\"showbackground\":true,\"ticks\":\"\",\"zerolinecolor\":\"white\",\"gridwidth\":2},\"zaxis\":{\"backgroundcolor\":\"#E5ECF6\",\"gridcolor\":\"white\",\"linecolor\":\"white\",\"showbackground\":true,\"ticks\":\"\",\"zerolinecolor\":\"white\",\"gridwidth\":2}},\"shapedefaults\":{\"line\":{\"color\":\"#2a3f5f\"}},\"annotationdefaults\":{\"arrowcolor\":\"#2a3f5f\",\"arrowhead\":0,\"arrowwidth\":1},\"geo\":{\"bgcolor\":\"white\",\"landcolor\":\"#E5ECF6\",\"subunitcolor\":\"white\",\"showland\":true,\"showlakes\":true,\"lakecolor\":\"white\"},\"title\":{\"x\":0.05},\"mapbox\":{\"style\":\"light\"}}},\"title\":{\"text\":\"Candidate Hire Counts for Selected Option\"},\"xaxis\":{\"title\":{\"text\":\"Candidate\"}},\"yaxis\":{\"title\":{\"text\":\"Hire Count\"}},\"barmode\":\"stack\"},                        {\"responsive\": true}                    ).then(function(){\n",
       "                            \n",
       "var gd = document.getElementById('bdc059d1-0b3c-463a-b7f5-8e1b0175a3a7');\n",
       "var x = new MutationObserver(function (mutations, observer) {{\n",
       "        var display = window.getComputedStyle(gd).display;\n",
       "        if (!display || display === 'none') {{\n",
       "            console.log([gd, 'removed!']);\n",
       "            Plotly.purge(gd);\n",
       "            observer.disconnect();\n",
       "        }}\n",
       "}});\n",
       "\n",
       "// Listen for the removal of the full notebook cells\n",
       "var notebookContainer = gd.closest('#notebook-container');\n",
       "if (notebookContainer) {{\n",
       "    x.observe(notebookContainer, {childList: true});\n",
       "}}\n",
       "\n",
       "// Listen for the clearing of the current output cell\n",
       "var outputEl = gd.closest('.output');\n",
       "if (outputEl) {{\n",
       "    x.observe(outputEl, {childList: true});\n",
       "}}\n",
       "\n",
       "                        })                };                });            </script>        </div>"
      ]
     },
     "metadata": {},
     "output_type": "display_data"
    },
    {
     "data": {
      "application/vnd.plotly.v1+json": {
       "config": {
        "plotlyServerURL": "https://plot.ly"
       },
       "data": [
        {
         "name": "Ciara Hire Count",
         "type": "bar",
         "x": [
          "Ciara"
         ],
         "y": [
          0
         ]
        },
        {
         "name": "Peter Hire Count",
         "type": "bar",
         "x": [
          "Peter"
         ],
         "y": [
          0
         ]
        },
        {
         "name": "Juan Hire Count",
         "type": "bar",
         "x": [
          "Juan"
         ],
         "y": [
          2
         ]
        },
        {
         "name": "Jim Hire Count",
         "type": "bar",
         "x": [
          "Jim"
         ],
         "y": [
          1
         ]
        },
        {
         "name": "Jane Hire Count",
         "type": "bar",
         "x": [
          "Jane"
         ],
         "y": [
          2
         ]
        },
        {
         "name": "Mary Hire Count",
         "type": "bar",
         "x": [
          "Mary"
         ],
         "y": [
          0
         ]
        },
        {
         "name": "Bruce Hire Count",
         "type": "bar",
         "x": [
          "Bruce"
         ],
         "y": [
          2
         ]
        },
        {
         "name": "Anita Hire Count",
         "type": "bar",
         "x": [
          "Anita"
         ],
         "y": [
          1
         ]
        }
       ],
       "layout": {
        "barmode": "stack",
        "template": {
         "data": {
          "bar": [
           {
            "error_x": {
             "color": "#2a3f5f"
            },
            "error_y": {
             "color": "#2a3f5f"
            },
            "marker": {
             "line": {
              "color": "#E5ECF6",
              "width": 0.5
             },
             "pattern": {
              "fillmode": "overlay",
              "size": 10,
              "solidity": 0.2
             }
            },
            "type": "bar"
           }
          ],
          "barpolar": [
           {
            "marker": {
             "line": {
              "color": "#E5ECF6",
              "width": 0.5
             },
             "pattern": {
              "fillmode": "overlay",
              "size": 10,
              "solidity": 0.2
             }
            },
            "type": "barpolar"
           }
          ],
          "carpet": [
           {
            "aaxis": {
             "endlinecolor": "#2a3f5f",
             "gridcolor": "white",
             "linecolor": "white",
             "minorgridcolor": "white",
             "startlinecolor": "#2a3f5f"
            },
            "baxis": {
             "endlinecolor": "#2a3f5f",
             "gridcolor": "white",
             "linecolor": "white",
             "minorgridcolor": "white",
             "startlinecolor": "#2a3f5f"
            },
            "type": "carpet"
           }
          ],
          "choropleth": [
           {
            "colorbar": {
             "outlinewidth": 0,
             "ticks": ""
            },
            "type": "choropleth"
           }
          ],
          "contour": [
           {
            "colorbar": {
             "outlinewidth": 0,
             "ticks": ""
            },
            "colorscale": [
             [
              0,
              "#0d0887"
             ],
             [
              0.1111111111111111,
              "#46039f"
             ],
             [
              0.2222222222222222,
              "#7201a8"
             ],
             [
              0.3333333333333333,
              "#9c179e"
             ],
             [
              0.4444444444444444,
              "#bd3786"
             ],
             [
              0.5555555555555556,
              "#d8576b"
             ],
             [
              0.6666666666666666,
              "#ed7953"
             ],
             [
              0.7777777777777778,
              "#fb9f3a"
             ],
             [
              0.8888888888888888,
              "#fdca26"
             ],
             [
              1,
              "#f0f921"
             ]
            ],
            "type": "contour"
           }
          ],
          "contourcarpet": [
           {
            "colorbar": {
             "outlinewidth": 0,
             "ticks": ""
            },
            "type": "contourcarpet"
           }
          ],
          "heatmap": [
           {
            "colorbar": {
             "outlinewidth": 0,
             "ticks": ""
            },
            "colorscale": [
             [
              0,
              "#0d0887"
             ],
             [
              0.1111111111111111,
              "#46039f"
             ],
             [
              0.2222222222222222,
              "#7201a8"
             ],
             [
              0.3333333333333333,
              "#9c179e"
             ],
             [
              0.4444444444444444,
              "#bd3786"
             ],
             [
              0.5555555555555556,
              "#d8576b"
             ],
             [
              0.6666666666666666,
              "#ed7953"
             ],
             [
              0.7777777777777778,
              "#fb9f3a"
             ],
             [
              0.8888888888888888,
              "#fdca26"
             ],
             [
              1,
              "#f0f921"
             ]
            ],
            "type": "heatmap"
           }
          ],
          "heatmapgl": [
           {
            "colorbar": {
             "outlinewidth": 0,
             "ticks": ""
            },
            "colorscale": [
             [
              0,
              "#0d0887"
             ],
             [
              0.1111111111111111,
              "#46039f"
             ],
             [
              0.2222222222222222,
              "#7201a8"
             ],
             [
              0.3333333333333333,
              "#9c179e"
             ],
             [
              0.4444444444444444,
              "#bd3786"
             ],
             [
              0.5555555555555556,
              "#d8576b"
             ],
             [
              0.6666666666666666,
              "#ed7953"
             ],
             [
              0.7777777777777778,
              "#fb9f3a"
             ],
             [
              0.8888888888888888,
              "#fdca26"
             ],
             [
              1,
              "#f0f921"
             ]
            ],
            "type": "heatmapgl"
           }
          ],
          "histogram": [
           {
            "marker": {
             "pattern": {
              "fillmode": "overlay",
              "size": 10,
              "solidity": 0.2
             }
            },
            "type": "histogram"
           }
          ],
          "histogram2d": [
           {
            "colorbar": {
             "outlinewidth": 0,
             "ticks": ""
            },
            "colorscale": [
             [
              0,
              "#0d0887"
             ],
             [
              0.1111111111111111,
              "#46039f"
             ],
             [
              0.2222222222222222,
              "#7201a8"
             ],
             [
              0.3333333333333333,
              "#9c179e"
             ],
             [
              0.4444444444444444,
              "#bd3786"
             ],
             [
              0.5555555555555556,
              "#d8576b"
             ],
             [
              0.6666666666666666,
              "#ed7953"
             ],
             [
              0.7777777777777778,
              "#fb9f3a"
             ],
             [
              0.8888888888888888,
              "#fdca26"
             ],
             [
              1,
              "#f0f921"
             ]
            ],
            "type": "histogram2d"
           }
          ],
          "histogram2dcontour": [
           {
            "colorbar": {
             "outlinewidth": 0,
             "ticks": ""
            },
            "colorscale": [
             [
              0,
              "#0d0887"
             ],
             [
              0.1111111111111111,
              "#46039f"
             ],
             [
              0.2222222222222222,
              "#7201a8"
             ],
             [
              0.3333333333333333,
              "#9c179e"
             ],
             [
              0.4444444444444444,
              "#bd3786"
             ],
             [
              0.5555555555555556,
              "#d8576b"
             ],
             [
              0.6666666666666666,
              "#ed7953"
             ],
             [
              0.7777777777777778,
              "#fb9f3a"
             ],
             [
              0.8888888888888888,
              "#fdca26"
             ],
             [
              1,
              "#f0f921"
             ]
            ],
            "type": "histogram2dcontour"
           }
          ],
          "mesh3d": [
           {
            "colorbar": {
             "outlinewidth": 0,
             "ticks": ""
            },
            "type": "mesh3d"
           }
          ],
          "parcoords": [
           {
            "line": {
             "colorbar": {
              "outlinewidth": 0,
              "ticks": ""
             }
            },
            "type": "parcoords"
           }
          ],
          "pie": [
           {
            "automargin": true,
            "type": "pie"
           }
          ],
          "scatter": [
           {
            "fillpattern": {
             "fillmode": "overlay",
             "size": 10,
             "solidity": 0.2
            },
            "type": "scatter"
           }
          ],
          "scatter3d": [
           {
            "line": {
             "colorbar": {
              "outlinewidth": 0,
              "ticks": ""
             }
            },
            "marker": {
             "colorbar": {
              "outlinewidth": 0,
              "ticks": ""
             }
            },
            "type": "scatter3d"
           }
          ],
          "scattercarpet": [
           {
            "marker": {
             "colorbar": {
              "outlinewidth": 0,
              "ticks": ""
             }
            },
            "type": "scattercarpet"
           }
          ],
          "scattergeo": [
           {
            "marker": {
             "colorbar": {
              "outlinewidth": 0,
              "ticks": ""
             }
            },
            "type": "scattergeo"
           }
          ],
          "scattergl": [
           {
            "marker": {
             "colorbar": {
              "outlinewidth": 0,
              "ticks": ""
             }
            },
            "type": "scattergl"
           }
          ],
          "scattermapbox": [
           {
            "marker": {
             "colorbar": {
              "outlinewidth": 0,
              "ticks": ""
             }
            },
            "type": "scattermapbox"
           }
          ],
          "scatterpolar": [
           {
            "marker": {
             "colorbar": {
              "outlinewidth": 0,
              "ticks": ""
             }
            },
            "type": "scatterpolar"
           }
          ],
          "scatterpolargl": [
           {
            "marker": {
             "colorbar": {
              "outlinewidth": 0,
              "ticks": ""
             }
            },
            "type": "scatterpolargl"
           }
          ],
          "scatterternary": [
           {
            "marker": {
             "colorbar": {
              "outlinewidth": 0,
              "ticks": ""
             }
            },
            "type": "scatterternary"
           }
          ],
          "surface": [
           {
            "colorbar": {
             "outlinewidth": 0,
             "ticks": ""
            },
            "colorscale": [
             [
              0,
              "#0d0887"
             ],
             [
              0.1111111111111111,
              "#46039f"
             ],
             [
              0.2222222222222222,
              "#7201a8"
             ],
             [
              0.3333333333333333,
              "#9c179e"
             ],
             [
              0.4444444444444444,
              "#bd3786"
             ],
             [
              0.5555555555555556,
              "#d8576b"
             ],
             [
              0.6666666666666666,
              "#ed7953"
             ],
             [
              0.7777777777777778,
              "#fb9f3a"
             ],
             [
              0.8888888888888888,
              "#fdca26"
             ],
             [
              1,
              "#f0f921"
             ]
            ],
            "type": "surface"
           }
          ],
          "table": [
           {
            "cells": {
             "fill": {
              "color": "#EBF0F8"
             },
             "line": {
              "color": "white"
             }
            },
            "header": {
             "fill": {
              "color": "#C8D4E3"
             },
             "line": {
              "color": "white"
             }
            },
            "type": "table"
           }
          ]
         },
         "layout": {
          "annotationdefaults": {
           "arrowcolor": "#2a3f5f",
           "arrowhead": 0,
           "arrowwidth": 1
          },
          "autotypenumbers": "strict",
          "coloraxis": {
           "colorbar": {
            "outlinewidth": 0,
            "ticks": ""
           }
          },
          "colorscale": {
           "diverging": [
            [
             0,
             "#8e0152"
            ],
            [
             0.1,
             "#c51b7d"
            ],
            [
             0.2,
             "#de77ae"
            ],
            [
             0.3,
             "#f1b6da"
            ],
            [
             0.4,
             "#fde0ef"
            ],
            [
             0.5,
             "#f7f7f7"
            ],
            [
             0.6,
             "#e6f5d0"
            ],
            [
             0.7,
             "#b8e186"
            ],
            [
             0.8,
             "#7fbc41"
            ],
            [
             0.9,
             "#4d9221"
            ],
            [
             1,
             "#276419"
            ]
           ],
           "sequential": [
            [
             0,
             "#0d0887"
            ],
            [
             0.1111111111111111,
             "#46039f"
            ],
            [
             0.2222222222222222,
             "#7201a8"
            ],
            [
             0.3333333333333333,
             "#9c179e"
            ],
            [
             0.4444444444444444,
             "#bd3786"
            ],
            [
             0.5555555555555556,
             "#d8576b"
            ],
            [
             0.6666666666666666,
             "#ed7953"
            ],
            [
             0.7777777777777778,
             "#fb9f3a"
            ],
            [
             0.8888888888888888,
             "#fdca26"
            ],
            [
             1,
             "#f0f921"
            ]
           ],
           "sequentialminus": [
            [
             0,
             "#0d0887"
            ],
            [
             0.1111111111111111,
             "#46039f"
            ],
            [
             0.2222222222222222,
             "#7201a8"
            ],
            [
             0.3333333333333333,
             "#9c179e"
            ],
            [
             0.4444444444444444,
             "#bd3786"
            ],
            [
             0.5555555555555556,
             "#d8576b"
            ],
            [
             0.6666666666666666,
             "#ed7953"
            ],
            [
             0.7777777777777778,
             "#fb9f3a"
            ],
            [
             0.8888888888888888,
             "#fdca26"
            ],
            [
             1,
             "#f0f921"
            ]
           ]
          },
          "colorway": [
           "#636efa",
           "#EF553B",
           "#00cc96",
           "#ab63fa",
           "#FFA15A",
           "#19d3f3",
           "#FF6692",
           "#B6E880",
           "#FF97FF",
           "#FECB52"
          ],
          "font": {
           "color": "#2a3f5f"
          },
          "geo": {
           "bgcolor": "white",
           "lakecolor": "white",
           "landcolor": "#E5ECF6",
           "showlakes": true,
           "showland": true,
           "subunitcolor": "white"
          },
          "hoverlabel": {
           "align": "left"
          },
          "hovermode": "closest",
          "mapbox": {
           "style": "light"
          },
          "paper_bgcolor": "white",
          "plot_bgcolor": "#E5ECF6",
          "polar": {
           "angularaxis": {
            "gridcolor": "white",
            "linecolor": "white",
            "ticks": ""
           },
           "bgcolor": "#E5ECF6",
           "radialaxis": {
            "gridcolor": "white",
            "linecolor": "white",
            "ticks": ""
           }
          },
          "scene": {
           "xaxis": {
            "backgroundcolor": "#E5ECF6",
            "gridcolor": "white",
            "gridwidth": 2,
            "linecolor": "white",
            "showbackground": true,
            "ticks": "",
            "zerolinecolor": "white"
           },
           "yaxis": {
            "backgroundcolor": "#E5ECF6",
            "gridcolor": "white",
            "gridwidth": 2,
            "linecolor": "white",
            "showbackground": true,
            "ticks": "",
            "zerolinecolor": "white"
           },
           "zaxis": {
            "backgroundcolor": "#E5ECF6",
            "gridcolor": "white",
            "gridwidth": 2,
            "linecolor": "white",
            "showbackground": true,
            "ticks": "",
            "zerolinecolor": "white"
           }
          },
          "shapedefaults": {
           "line": {
            "color": "#2a3f5f"
           }
          },
          "ternary": {
           "aaxis": {
            "gridcolor": "white",
            "linecolor": "white",
            "ticks": ""
           },
           "baxis": {
            "gridcolor": "white",
            "linecolor": "white",
            "ticks": ""
           },
           "bgcolor": "#E5ECF6",
           "caxis": {
            "gridcolor": "white",
            "linecolor": "white",
            "ticks": ""
           }
          },
          "title": {
           "x": 0.05
          },
          "xaxis": {
           "automargin": true,
           "gridcolor": "white",
           "linecolor": "white",
           "ticks": "",
           "title": {
            "standoff": 15
           },
           "zerolinecolor": "white",
           "zerolinewidth": 2
          },
          "yaxis": {
           "automargin": true,
           "gridcolor": "white",
           "linecolor": "white",
           "ticks": "",
           "title": {
            "standoff": 15
           },
           "zerolinecolor": "white",
           "zerolinewidth": 2
          }
         }
        },
        "title": {
         "text": "Candidate Hire Counts for Selected Option"
        },
        "xaxis": {
         "title": {
          "text": "Candidate"
         }
        },
        "yaxis": {
         "title": {
          "text": "Hire Count"
         }
        }
       }
      },
      "text/html": [
       "<div>                            <div id=\"28494425-5a50-481e-a6b0-5ddd46697c7b\" class=\"plotly-graph-div\" style=\"height:525px; width:100%;\"></div>            <script type=\"text/javascript\">                require([\"plotly\"], function(Plotly) {                    window.PLOTLYENV=window.PLOTLYENV || {};                                    if (document.getElementById(\"28494425-5a50-481e-a6b0-5ddd46697c7b\")) {                    Plotly.newPlot(                        \"28494425-5a50-481e-a6b0-5ddd46697c7b\",                        [{\"name\":\"Ciara Hire Count\",\"x\":[\"Ciara\"],\"y\":[0],\"type\":\"bar\"},{\"name\":\"Peter Hire Count\",\"x\":[\"Peter\"],\"y\":[0],\"type\":\"bar\"},{\"name\":\"Juan Hire Count\",\"x\":[\"Juan\"],\"y\":[2],\"type\":\"bar\"},{\"name\":\"Jim Hire Count\",\"x\":[\"Jim\"],\"y\":[1],\"type\":\"bar\"},{\"name\":\"Jane Hire Count\",\"x\":[\"Jane\"],\"y\":[2],\"type\":\"bar\"},{\"name\":\"Mary Hire Count\",\"x\":[\"Mary\"],\"y\":[0],\"type\":\"bar\"},{\"name\":\"Bruce Hire Count\",\"x\":[\"Bruce\"],\"y\":[2],\"type\":\"bar\"},{\"name\":\"Anita Hire Count\",\"x\":[\"Anita\"],\"y\":[1],\"type\":\"bar\"}],                        {\"template\":{\"data\":{\"histogram2dcontour\":[{\"type\":\"histogram2dcontour\",\"colorbar\":{\"outlinewidth\":0,\"ticks\":\"\"},\"colorscale\":[[0.0,\"#0d0887\"],[0.1111111111111111,\"#46039f\"],[0.2222222222222222,\"#7201a8\"],[0.3333333333333333,\"#9c179e\"],[0.4444444444444444,\"#bd3786\"],[0.5555555555555556,\"#d8576b\"],[0.6666666666666666,\"#ed7953\"],[0.7777777777777778,\"#fb9f3a\"],[0.8888888888888888,\"#fdca26\"],[1.0,\"#f0f921\"]]}],\"choropleth\":[{\"type\":\"choropleth\",\"colorbar\":{\"outlinewidth\":0,\"ticks\":\"\"}}],\"histogram2d\":[{\"type\":\"histogram2d\",\"colorbar\":{\"outlinewidth\":0,\"ticks\":\"\"},\"colorscale\":[[0.0,\"#0d0887\"],[0.1111111111111111,\"#46039f\"],[0.2222222222222222,\"#7201a8\"],[0.3333333333333333,\"#9c179e\"],[0.4444444444444444,\"#bd3786\"],[0.5555555555555556,\"#d8576b\"],[0.6666666666666666,\"#ed7953\"],[0.7777777777777778,\"#fb9f3a\"],[0.8888888888888888,\"#fdca26\"],[1.0,\"#f0f921\"]]}],\"heatmap\":[{\"type\":\"heatmap\",\"colorbar\":{\"outlinewidth\":0,\"ticks\":\"\"},\"colorscale\":[[0.0,\"#0d0887\"],[0.1111111111111111,\"#46039f\"],[0.2222222222222222,\"#7201a8\"],[0.3333333333333333,\"#9c179e\"],[0.4444444444444444,\"#bd3786\"],[0.5555555555555556,\"#d8576b\"],[0.6666666666666666,\"#ed7953\"],[0.7777777777777778,\"#fb9f3a\"],[0.8888888888888888,\"#fdca26\"],[1.0,\"#f0f921\"]]}],\"heatmapgl\":[{\"type\":\"heatmapgl\",\"colorbar\":{\"outlinewidth\":0,\"ticks\":\"\"},\"colorscale\":[[0.0,\"#0d0887\"],[0.1111111111111111,\"#46039f\"],[0.2222222222222222,\"#7201a8\"],[0.3333333333333333,\"#9c179e\"],[0.4444444444444444,\"#bd3786\"],[0.5555555555555556,\"#d8576b\"],[0.6666666666666666,\"#ed7953\"],[0.7777777777777778,\"#fb9f3a\"],[0.8888888888888888,\"#fdca26\"],[1.0,\"#f0f921\"]]}],\"contourcarpet\":[{\"type\":\"contourcarpet\",\"colorbar\":{\"outlinewidth\":0,\"ticks\":\"\"}}],\"contour\":[{\"type\":\"contour\",\"colorbar\":{\"outlinewidth\":0,\"ticks\":\"\"},\"colorscale\":[[0.0,\"#0d0887\"],[0.1111111111111111,\"#46039f\"],[0.2222222222222222,\"#7201a8\"],[0.3333333333333333,\"#9c179e\"],[0.4444444444444444,\"#bd3786\"],[0.5555555555555556,\"#d8576b\"],[0.6666666666666666,\"#ed7953\"],[0.7777777777777778,\"#fb9f3a\"],[0.8888888888888888,\"#fdca26\"],[1.0,\"#f0f921\"]]}],\"surface\":[{\"type\":\"surface\",\"colorbar\":{\"outlinewidth\":0,\"ticks\":\"\"},\"colorscale\":[[0.0,\"#0d0887\"],[0.1111111111111111,\"#46039f\"],[0.2222222222222222,\"#7201a8\"],[0.3333333333333333,\"#9c179e\"],[0.4444444444444444,\"#bd3786\"],[0.5555555555555556,\"#d8576b\"],[0.6666666666666666,\"#ed7953\"],[0.7777777777777778,\"#fb9f3a\"],[0.8888888888888888,\"#fdca26\"],[1.0,\"#f0f921\"]]}],\"mesh3d\":[{\"type\":\"mesh3d\",\"colorbar\":{\"outlinewidth\":0,\"ticks\":\"\"}}],\"scatter\":[{\"fillpattern\":{\"fillmode\":\"overlay\",\"size\":10,\"solidity\":0.2},\"type\":\"scatter\"}],\"parcoords\":[{\"type\":\"parcoords\",\"line\":{\"colorbar\":{\"outlinewidth\":0,\"ticks\":\"\"}}}],\"scatterpolargl\":[{\"type\":\"scatterpolargl\",\"marker\":{\"colorbar\":{\"outlinewidth\":0,\"ticks\":\"\"}}}],\"bar\":[{\"error_x\":{\"color\":\"#2a3f5f\"},\"error_y\":{\"color\":\"#2a3f5f\"},\"marker\":{\"line\":{\"color\":\"#E5ECF6\",\"width\":0.5},\"pattern\":{\"fillmode\":\"overlay\",\"size\":10,\"solidity\":0.2}},\"type\":\"bar\"}],\"scattergeo\":[{\"type\":\"scattergeo\",\"marker\":{\"colorbar\":{\"outlinewidth\":0,\"ticks\":\"\"}}}],\"scatterpolar\":[{\"type\":\"scatterpolar\",\"marker\":{\"colorbar\":{\"outlinewidth\":0,\"ticks\":\"\"}}}],\"histogram\":[{\"marker\":{\"pattern\":{\"fillmode\":\"overlay\",\"size\":10,\"solidity\":0.2}},\"type\":\"histogram\"}],\"scattergl\":[{\"type\":\"scattergl\",\"marker\":{\"colorbar\":{\"outlinewidth\":0,\"ticks\":\"\"}}}],\"scatter3d\":[{\"type\":\"scatter3d\",\"line\":{\"colorbar\":{\"outlinewidth\":0,\"ticks\":\"\"}},\"marker\":{\"colorbar\":{\"outlinewidth\":0,\"ticks\":\"\"}}}],\"scattermapbox\":[{\"type\":\"scattermapbox\",\"marker\":{\"colorbar\":{\"outlinewidth\":0,\"ticks\":\"\"}}}],\"scatterternary\":[{\"type\":\"scatterternary\",\"marker\":{\"colorbar\":{\"outlinewidth\":0,\"ticks\":\"\"}}}],\"scattercarpet\":[{\"type\":\"scattercarpet\",\"marker\":{\"colorbar\":{\"outlinewidth\":0,\"ticks\":\"\"}}}],\"carpet\":[{\"aaxis\":{\"endlinecolor\":\"#2a3f5f\",\"gridcolor\":\"white\",\"linecolor\":\"white\",\"minorgridcolor\":\"white\",\"startlinecolor\":\"#2a3f5f\"},\"baxis\":{\"endlinecolor\":\"#2a3f5f\",\"gridcolor\":\"white\",\"linecolor\":\"white\",\"minorgridcolor\":\"white\",\"startlinecolor\":\"#2a3f5f\"},\"type\":\"carpet\"}],\"table\":[{\"cells\":{\"fill\":{\"color\":\"#EBF0F8\"},\"line\":{\"color\":\"white\"}},\"header\":{\"fill\":{\"color\":\"#C8D4E3\"},\"line\":{\"color\":\"white\"}},\"type\":\"table\"}],\"barpolar\":[{\"marker\":{\"line\":{\"color\":\"#E5ECF6\",\"width\":0.5},\"pattern\":{\"fillmode\":\"overlay\",\"size\":10,\"solidity\":0.2}},\"type\":\"barpolar\"}],\"pie\":[{\"automargin\":true,\"type\":\"pie\"}]},\"layout\":{\"autotypenumbers\":\"strict\",\"colorway\":[\"#636efa\",\"#EF553B\",\"#00cc96\",\"#ab63fa\",\"#FFA15A\",\"#19d3f3\",\"#FF6692\",\"#B6E880\",\"#FF97FF\",\"#FECB52\"],\"font\":{\"color\":\"#2a3f5f\"},\"hovermode\":\"closest\",\"hoverlabel\":{\"align\":\"left\"},\"paper_bgcolor\":\"white\",\"plot_bgcolor\":\"#E5ECF6\",\"polar\":{\"bgcolor\":\"#E5ECF6\",\"angularaxis\":{\"gridcolor\":\"white\",\"linecolor\":\"white\",\"ticks\":\"\"},\"radialaxis\":{\"gridcolor\":\"white\",\"linecolor\":\"white\",\"ticks\":\"\"}},\"ternary\":{\"bgcolor\":\"#E5ECF6\",\"aaxis\":{\"gridcolor\":\"white\",\"linecolor\":\"white\",\"ticks\":\"\"},\"baxis\":{\"gridcolor\":\"white\",\"linecolor\":\"white\",\"ticks\":\"\"},\"caxis\":{\"gridcolor\":\"white\",\"linecolor\":\"white\",\"ticks\":\"\"}},\"coloraxis\":{\"colorbar\":{\"outlinewidth\":0,\"ticks\":\"\"}},\"colorscale\":{\"sequential\":[[0.0,\"#0d0887\"],[0.1111111111111111,\"#46039f\"],[0.2222222222222222,\"#7201a8\"],[0.3333333333333333,\"#9c179e\"],[0.4444444444444444,\"#bd3786\"],[0.5555555555555556,\"#d8576b\"],[0.6666666666666666,\"#ed7953\"],[0.7777777777777778,\"#fb9f3a\"],[0.8888888888888888,\"#fdca26\"],[1.0,\"#f0f921\"]],\"sequentialminus\":[[0.0,\"#0d0887\"],[0.1111111111111111,\"#46039f\"],[0.2222222222222222,\"#7201a8\"],[0.3333333333333333,\"#9c179e\"],[0.4444444444444444,\"#bd3786\"],[0.5555555555555556,\"#d8576b\"],[0.6666666666666666,\"#ed7953\"],[0.7777777777777778,\"#fb9f3a\"],[0.8888888888888888,\"#fdca26\"],[1.0,\"#f0f921\"]],\"diverging\":[[0,\"#8e0152\"],[0.1,\"#c51b7d\"],[0.2,\"#de77ae\"],[0.3,\"#f1b6da\"],[0.4,\"#fde0ef\"],[0.5,\"#f7f7f7\"],[0.6,\"#e6f5d0\"],[0.7,\"#b8e186\"],[0.8,\"#7fbc41\"],[0.9,\"#4d9221\"],[1,\"#276419\"]]},\"xaxis\":{\"gridcolor\":\"white\",\"linecolor\":\"white\",\"ticks\":\"\",\"title\":{\"standoff\":15},\"zerolinecolor\":\"white\",\"automargin\":true,\"zerolinewidth\":2},\"yaxis\":{\"gridcolor\":\"white\",\"linecolor\":\"white\",\"ticks\":\"\",\"title\":{\"standoff\":15},\"zerolinecolor\":\"white\",\"automargin\":true,\"zerolinewidth\":2},\"scene\":{\"xaxis\":{\"backgroundcolor\":\"#E5ECF6\",\"gridcolor\":\"white\",\"linecolor\":\"white\",\"showbackground\":true,\"ticks\":\"\",\"zerolinecolor\":\"white\",\"gridwidth\":2},\"yaxis\":{\"backgroundcolor\":\"#E5ECF6\",\"gridcolor\":\"white\",\"linecolor\":\"white\",\"showbackground\":true,\"ticks\":\"\",\"zerolinecolor\":\"white\",\"gridwidth\":2},\"zaxis\":{\"backgroundcolor\":\"#E5ECF6\",\"gridcolor\":\"white\",\"linecolor\":\"white\",\"showbackground\":true,\"ticks\":\"\",\"zerolinecolor\":\"white\",\"gridwidth\":2}},\"shapedefaults\":{\"line\":{\"color\":\"#2a3f5f\"}},\"annotationdefaults\":{\"arrowcolor\":\"#2a3f5f\",\"arrowhead\":0,\"arrowwidth\":1},\"geo\":{\"bgcolor\":\"white\",\"landcolor\":\"#E5ECF6\",\"subunitcolor\":\"white\",\"showland\":true,\"showlakes\":true,\"lakecolor\":\"white\"},\"title\":{\"x\":0.05},\"mapbox\":{\"style\":\"light\"}}},\"title\":{\"text\":\"Candidate Hire Counts for Selected Option\"},\"xaxis\":{\"title\":{\"text\":\"Candidate\"}},\"yaxis\":{\"title\":{\"text\":\"Hire Count\"}},\"barmode\":\"stack\"},                        {\"responsive\": true}                    ).then(function(){\n",
       "                            \n",
       "var gd = document.getElementById('28494425-5a50-481e-a6b0-5ddd46697c7b');\n",
       "var x = new MutationObserver(function (mutations, observer) {{\n",
       "        var display = window.getComputedStyle(gd).display;\n",
       "        if (!display || display === 'none') {{\n",
       "            console.log([gd, 'removed!']);\n",
       "            Plotly.purge(gd);\n",
       "            observer.disconnect();\n",
       "        }}\n",
       "}});\n",
       "\n",
       "// Listen for the removal of the full notebook cells\n",
       "var notebookContainer = gd.closest('#notebook-container');\n",
       "if (notebookContainer) {{\n",
       "    x.observe(notebookContainer, {childList: true});\n",
       "}}\n",
       "\n",
       "// Listen for the clearing of the current output cell\n",
       "var outputEl = gd.closest('.output');\n",
       "if (outputEl) {{\n",
       "    x.observe(outputEl, {childList: true});\n",
       "}}\n",
       "\n",
       "                        })                };                });            </script>        </div>"
      ]
     },
     "metadata": {},
     "output_type": "display_data"
    },
    {
     "data": {
      "application/vnd.plotly.v1+json": {
       "config": {
        "plotlyServerURL": "https://plot.ly"
       },
       "data": [
        {
         "name": "Ciara Hire Count",
         "type": "bar",
         "x": [
          "Ciara"
         ],
         "y": [
          0
         ]
        },
        {
         "name": "Peter Hire Count",
         "type": "bar",
         "x": [
          "Peter"
         ],
         "y": [
          0
         ]
        },
        {
         "name": "Juan Hire Count",
         "type": "bar",
         "x": [
          "Juan"
         ],
         "y": [
          1
         ]
        },
        {
         "name": "Jim Hire Count",
         "type": "bar",
         "x": [
          "Jim"
         ],
         "y": [
          1
         ]
        },
        {
         "name": "Jane Hire Count",
         "type": "bar",
         "x": [
          "Jane"
         ],
         "y": [
          2
         ]
        },
        {
         "name": "Mary Hire Count",
         "type": "bar",
         "x": [
          "Mary"
         ],
         "y": [
          0
         ]
        },
        {
         "name": "Bruce Hire Count",
         "type": "bar",
         "x": [
          "Bruce"
         ],
         "y": [
          2
         ]
        },
        {
         "name": "Anita Hire Count",
         "type": "bar",
         "x": [
          "Anita"
         ],
         "y": [
          2
         ]
        }
       ],
       "layout": {
        "barmode": "stack",
        "template": {
         "data": {
          "bar": [
           {
            "error_x": {
             "color": "#2a3f5f"
            },
            "error_y": {
             "color": "#2a3f5f"
            },
            "marker": {
             "line": {
              "color": "#E5ECF6",
              "width": 0.5
             },
             "pattern": {
              "fillmode": "overlay",
              "size": 10,
              "solidity": 0.2
             }
            },
            "type": "bar"
           }
          ],
          "barpolar": [
           {
            "marker": {
             "line": {
              "color": "#E5ECF6",
              "width": 0.5
             },
             "pattern": {
              "fillmode": "overlay",
              "size": 10,
              "solidity": 0.2
             }
            },
            "type": "barpolar"
           }
          ],
          "carpet": [
           {
            "aaxis": {
             "endlinecolor": "#2a3f5f",
             "gridcolor": "white",
             "linecolor": "white",
             "minorgridcolor": "white",
             "startlinecolor": "#2a3f5f"
            },
            "baxis": {
             "endlinecolor": "#2a3f5f",
             "gridcolor": "white",
             "linecolor": "white",
             "minorgridcolor": "white",
             "startlinecolor": "#2a3f5f"
            },
            "type": "carpet"
           }
          ],
          "choropleth": [
           {
            "colorbar": {
             "outlinewidth": 0,
             "ticks": ""
            },
            "type": "choropleth"
           }
          ],
          "contour": [
           {
            "colorbar": {
             "outlinewidth": 0,
             "ticks": ""
            },
            "colorscale": [
             [
              0,
              "#0d0887"
             ],
             [
              0.1111111111111111,
              "#46039f"
             ],
             [
              0.2222222222222222,
              "#7201a8"
             ],
             [
              0.3333333333333333,
              "#9c179e"
             ],
             [
              0.4444444444444444,
              "#bd3786"
             ],
             [
              0.5555555555555556,
              "#d8576b"
             ],
             [
              0.6666666666666666,
              "#ed7953"
             ],
             [
              0.7777777777777778,
              "#fb9f3a"
             ],
             [
              0.8888888888888888,
              "#fdca26"
             ],
             [
              1,
              "#f0f921"
             ]
            ],
            "type": "contour"
           }
          ],
          "contourcarpet": [
           {
            "colorbar": {
             "outlinewidth": 0,
             "ticks": ""
            },
            "type": "contourcarpet"
           }
          ],
          "heatmap": [
           {
            "colorbar": {
             "outlinewidth": 0,
             "ticks": ""
            },
            "colorscale": [
             [
              0,
              "#0d0887"
             ],
             [
              0.1111111111111111,
              "#46039f"
             ],
             [
              0.2222222222222222,
              "#7201a8"
             ],
             [
              0.3333333333333333,
              "#9c179e"
             ],
             [
              0.4444444444444444,
              "#bd3786"
             ],
             [
              0.5555555555555556,
              "#d8576b"
             ],
             [
              0.6666666666666666,
              "#ed7953"
             ],
             [
              0.7777777777777778,
              "#fb9f3a"
             ],
             [
              0.8888888888888888,
              "#fdca26"
             ],
             [
              1,
              "#f0f921"
             ]
            ],
            "type": "heatmap"
           }
          ],
          "heatmapgl": [
           {
            "colorbar": {
             "outlinewidth": 0,
             "ticks": ""
            },
            "colorscale": [
             [
              0,
              "#0d0887"
             ],
             [
              0.1111111111111111,
              "#46039f"
             ],
             [
              0.2222222222222222,
              "#7201a8"
             ],
             [
              0.3333333333333333,
              "#9c179e"
             ],
             [
              0.4444444444444444,
              "#bd3786"
             ],
             [
              0.5555555555555556,
              "#d8576b"
             ],
             [
              0.6666666666666666,
              "#ed7953"
             ],
             [
              0.7777777777777778,
              "#fb9f3a"
             ],
             [
              0.8888888888888888,
              "#fdca26"
             ],
             [
              1,
              "#f0f921"
             ]
            ],
            "type": "heatmapgl"
           }
          ],
          "histogram": [
           {
            "marker": {
             "pattern": {
              "fillmode": "overlay",
              "size": 10,
              "solidity": 0.2
             }
            },
            "type": "histogram"
           }
          ],
          "histogram2d": [
           {
            "colorbar": {
             "outlinewidth": 0,
             "ticks": ""
            },
            "colorscale": [
             [
              0,
              "#0d0887"
             ],
             [
              0.1111111111111111,
              "#46039f"
             ],
             [
              0.2222222222222222,
              "#7201a8"
             ],
             [
              0.3333333333333333,
              "#9c179e"
             ],
             [
              0.4444444444444444,
              "#bd3786"
             ],
             [
              0.5555555555555556,
              "#d8576b"
             ],
             [
              0.6666666666666666,
              "#ed7953"
             ],
             [
              0.7777777777777778,
              "#fb9f3a"
             ],
             [
              0.8888888888888888,
              "#fdca26"
             ],
             [
              1,
              "#f0f921"
             ]
            ],
            "type": "histogram2d"
           }
          ],
          "histogram2dcontour": [
           {
            "colorbar": {
             "outlinewidth": 0,
             "ticks": ""
            },
            "colorscale": [
             [
              0,
              "#0d0887"
             ],
             [
              0.1111111111111111,
              "#46039f"
             ],
             [
              0.2222222222222222,
              "#7201a8"
             ],
             [
              0.3333333333333333,
              "#9c179e"
             ],
             [
              0.4444444444444444,
              "#bd3786"
             ],
             [
              0.5555555555555556,
              "#d8576b"
             ],
             [
              0.6666666666666666,
              "#ed7953"
             ],
             [
              0.7777777777777778,
              "#fb9f3a"
             ],
             [
              0.8888888888888888,
              "#fdca26"
             ],
             [
              1,
              "#f0f921"
             ]
            ],
            "type": "histogram2dcontour"
           }
          ],
          "mesh3d": [
           {
            "colorbar": {
             "outlinewidth": 0,
             "ticks": ""
            },
            "type": "mesh3d"
           }
          ],
          "parcoords": [
           {
            "line": {
             "colorbar": {
              "outlinewidth": 0,
              "ticks": ""
             }
            },
            "type": "parcoords"
           }
          ],
          "pie": [
           {
            "automargin": true,
            "type": "pie"
           }
          ],
          "scatter": [
           {
            "fillpattern": {
             "fillmode": "overlay",
             "size": 10,
             "solidity": 0.2
            },
            "type": "scatter"
           }
          ],
          "scatter3d": [
           {
            "line": {
             "colorbar": {
              "outlinewidth": 0,
              "ticks": ""
             }
            },
            "marker": {
             "colorbar": {
              "outlinewidth": 0,
              "ticks": ""
             }
            },
            "type": "scatter3d"
           }
          ],
          "scattercarpet": [
           {
            "marker": {
             "colorbar": {
              "outlinewidth": 0,
              "ticks": ""
             }
            },
            "type": "scattercarpet"
           }
          ],
          "scattergeo": [
           {
            "marker": {
             "colorbar": {
              "outlinewidth": 0,
              "ticks": ""
             }
            },
            "type": "scattergeo"
           }
          ],
          "scattergl": [
           {
            "marker": {
             "colorbar": {
              "outlinewidth": 0,
              "ticks": ""
             }
            },
            "type": "scattergl"
           }
          ],
          "scattermapbox": [
           {
            "marker": {
             "colorbar": {
              "outlinewidth": 0,
              "ticks": ""
             }
            },
            "type": "scattermapbox"
           }
          ],
          "scatterpolar": [
           {
            "marker": {
             "colorbar": {
              "outlinewidth": 0,
              "ticks": ""
             }
            },
            "type": "scatterpolar"
           }
          ],
          "scatterpolargl": [
           {
            "marker": {
             "colorbar": {
              "outlinewidth": 0,
              "ticks": ""
             }
            },
            "type": "scatterpolargl"
           }
          ],
          "scatterternary": [
           {
            "marker": {
             "colorbar": {
              "outlinewidth": 0,
              "ticks": ""
             }
            },
            "type": "scatterternary"
           }
          ],
          "surface": [
           {
            "colorbar": {
             "outlinewidth": 0,
             "ticks": ""
            },
            "colorscale": [
             [
              0,
              "#0d0887"
             ],
             [
              0.1111111111111111,
              "#46039f"
             ],
             [
              0.2222222222222222,
              "#7201a8"
             ],
             [
              0.3333333333333333,
              "#9c179e"
             ],
             [
              0.4444444444444444,
              "#bd3786"
             ],
             [
              0.5555555555555556,
              "#d8576b"
             ],
             [
              0.6666666666666666,
              "#ed7953"
             ],
             [
              0.7777777777777778,
              "#fb9f3a"
             ],
             [
              0.8888888888888888,
              "#fdca26"
             ],
             [
              1,
              "#f0f921"
             ]
            ],
            "type": "surface"
           }
          ],
          "table": [
           {
            "cells": {
             "fill": {
              "color": "#EBF0F8"
             },
             "line": {
              "color": "white"
             }
            },
            "header": {
             "fill": {
              "color": "#C8D4E3"
             },
             "line": {
              "color": "white"
             }
            },
            "type": "table"
           }
          ]
         },
         "layout": {
          "annotationdefaults": {
           "arrowcolor": "#2a3f5f",
           "arrowhead": 0,
           "arrowwidth": 1
          },
          "autotypenumbers": "strict",
          "coloraxis": {
           "colorbar": {
            "outlinewidth": 0,
            "ticks": ""
           }
          },
          "colorscale": {
           "diverging": [
            [
             0,
             "#8e0152"
            ],
            [
             0.1,
             "#c51b7d"
            ],
            [
             0.2,
             "#de77ae"
            ],
            [
             0.3,
             "#f1b6da"
            ],
            [
             0.4,
             "#fde0ef"
            ],
            [
             0.5,
             "#f7f7f7"
            ],
            [
             0.6,
             "#e6f5d0"
            ],
            [
             0.7,
             "#b8e186"
            ],
            [
             0.8,
             "#7fbc41"
            ],
            [
             0.9,
             "#4d9221"
            ],
            [
             1,
             "#276419"
            ]
           ],
           "sequential": [
            [
             0,
             "#0d0887"
            ],
            [
             0.1111111111111111,
             "#46039f"
            ],
            [
             0.2222222222222222,
             "#7201a8"
            ],
            [
             0.3333333333333333,
             "#9c179e"
            ],
            [
             0.4444444444444444,
             "#bd3786"
            ],
            [
             0.5555555555555556,
             "#d8576b"
            ],
            [
             0.6666666666666666,
             "#ed7953"
            ],
            [
             0.7777777777777778,
             "#fb9f3a"
            ],
            [
             0.8888888888888888,
             "#fdca26"
            ],
            [
             1,
             "#f0f921"
            ]
           ],
           "sequentialminus": [
            [
             0,
             "#0d0887"
            ],
            [
             0.1111111111111111,
             "#46039f"
            ],
            [
             0.2222222222222222,
             "#7201a8"
            ],
            [
             0.3333333333333333,
             "#9c179e"
            ],
            [
             0.4444444444444444,
             "#bd3786"
            ],
            [
             0.5555555555555556,
             "#d8576b"
            ],
            [
             0.6666666666666666,
             "#ed7953"
            ],
            [
             0.7777777777777778,
             "#fb9f3a"
            ],
            [
             0.8888888888888888,
             "#fdca26"
            ],
            [
             1,
             "#f0f921"
            ]
           ]
          },
          "colorway": [
           "#636efa",
           "#EF553B",
           "#00cc96",
           "#ab63fa",
           "#FFA15A",
           "#19d3f3",
           "#FF6692",
           "#B6E880",
           "#FF97FF",
           "#FECB52"
          ],
          "font": {
           "color": "#2a3f5f"
          },
          "geo": {
           "bgcolor": "white",
           "lakecolor": "white",
           "landcolor": "#E5ECF6",
           "showlakes": true,
           "showland": true,
           "subunitcolor": "white"
          },
          "hoverlabel": {
           "align": "left"
          },
          "hovermode": "closest",
          "mapbox": {
           "style": "light"
          },
          "paper_bgcolor": "white",
          "plot_bgcolor": "#E5ECF6",
          "polar": {
           "angularaxis": {
            "gridcolor": "white",
            "linecolor": "white",
            "ticks": ""
           },
           "bgcolor": "#E5ECF6",
           "radialaxis": {
            "gridcolor": "white",
            "linecolor": "white",
            "ticks": ""
           }
          },
          "scene": {
           "xaxis": {
            "backgroundcolor": "#E5ECF6",
            "gridcolor": "white",
            "gridwidth": 2,
            "linecolor": "white",
            "showbackground": true,
            "ticks": "",
            "zerolinecolor": "white"
           },
           "yaxis": {
            "backgroundcolor": "#E5ECF6",
            "gridcolor": "white",
            "gridwidth": 2,
            "linecolor": "white",
            "showbackground": true,
            "ticks": "",
            "zerolinecolor": "white"
           },
           "zaxis": {
            "backgroundcolor": "#E5ECF6",
            "gridcolor": "white",
            "gridwidth": 2,
            "linecolor": "white",
            "showbackground": true,
            "ticks": "",
            "zerolinecolor": "white"
           }
          },
          "shapedefaults": {
           "line": {
            "color": "#2a3f5f"
           }
          },
          "ternary": {
           "aaxis": {
            "gridcolor": "white",
            "linecolor": "white",
            "ticks": ""
           },
           "baxis": {
            "gridcolor": "white",
            "linecolor": "white",
            "ticks": ""
           },
           "bgcolor": "#E5ECF6",
           "caxis": {
            "gridcolor": "white",
            "linecolor": "white",
            "ticks": ""
           }
          },
          "title": {
           "x": 0.05
          },
          "xaxis": {
           "automargin": true,
           "gridcolor": "white",
           "linecolor": "white",
           "ticks": "",
           "title": {
            "standoff": 15
           },
           "zerolinecolor": "white",
           "zerolinewidth": 2
          },
          "yaxis": {
           "automargin": true,
           "gridcolor": "white",
           "linecolor": "white",
           "ticks": "",
           "title": {
            "standoff": 15
           },
           "zerolinecolor": "white",
           "zerolinewidth": 2
          }
         }
        },
        "title": {
         "text": "Candidate Hire Counts for Selected Option"
        },
        "xaxis": {
         "title": {
          "text": "Candidate"
         }
        },
        "yaxis": {
         "title": {
          "text": "Hire Count"
         }
        }
       }
      },
      "text/html": [
       "<div>                            <div id=\"1a13dd51-858e-4f8f-859e-ecc0ac28a68b\" class=\"plotly-graph-div\" style=\"height:525px; width:100%;\"></div>            <script type=\"text/javascript\">                require([\"plotly\"], function(Plotly) {                    window.PLOTLYENV=window.PLOTLYENV || {};                                    if (document.getElementById(\"1a13dd51-858e-4f8f-859e-ecc0ac28a68b\")) {                    Plotly.newPlot(                        \"1a13dd51-858e-4f8f-859e-ecc0ac28a68b\",                        [{\"name\":\"Ciara Hire Count\",\"x\":[\"Ciara\"],\"y\":[0],\"type\":\"bar\"},{\"name\":\"Peter Hire Count\",\"x\":[\"Peter\"],\"y\":[0],\"type\":\"bar\"},{\"name\":\"Juan Hire Count\",\"x\":[\"Juan\"],\"y\":[1],\"type\":\"bar\"},{\"name\":\"Jim Hire Count\",\"x\":[\"Jim\"],\"y\":[1],\"type\":\"bar\"},{\"name\":\"Jane Hire Count\",\"x\":[\"Jane\"],\"y\":[2],\"type\":\"bar\"},{\"name\":\"Mary Hire Count\",\"x\":[\"Mary\"],\"y\":[0],\"type\":\"bar\"},{\"name\":\"Bruce Hire Count\",\"x\":[\"Bruce\"],\"y\":[2],\"type\":\"bar\"},{\"name\":\"Anita Hire Count\",\"x\":[\"Anita\"],\"y\":[2],\"type\":\"bar\"}],                        {\"template\":{\"data\":{\"histogram2dcontour\":[{\"type\":\"histogram2dcontour\",\"colorbar\":{\"outlinewidth\":0,\"ticks\":\"\"},\"colorscale\":[[0.0,\"#0d0887\"],[0.1111111111111111,\"#46039f\"],[0.2222222222222222,\"#7201a8\"],[0.3333333333333333,\"#9c179e\"],[0.4444444444444444,\"#bd3786\"],[0.5555555555555556,\"#d8576b\"],[0.6666666666666666,\"#ed7953\"],[0.7777777777777778,\"#fb9f3a\"],[0.8888888888888888,\"#fdca26\"],[1.0,\"#f0f921\"]]}],\"choropleth\":[{\"type\":\"choropleth\",\"colorbar\":{\"outlinewidth\":0,\"ticks\":\"\"}}],\"histogram2d\":[{\"type\":\"histogram2d\",\"colorbar\":{\"outlinewidth\":0,\"ticks\":\"\"},\"colorscale\":[[0.0,\"#0d0887\"],[0.1111111111111111,\"#46039f\"],[0.2222222222222222,\"#7201a8\"],[0.3333333333333333,\"#9c179e\"],[0.4444444444444444,\"#bd3786\"],[0.5555555555555556,\"#d8576b\"],[0.6666666666666666,\"#ed7953\"],[0.7777777777777778,\"#fb9f3a\"],[0.8888888888888888,\"#fdca26\"],[1.0,\"#f0f921\"]]}],\"heatmap\":[{\"type\":\"heatmap\",\"colorbar\":{\"outlinewidth\":0,\"ticks\":\"\"},\"colorscale\":[[0.0,\"#0d0887\"],[0.1111111111111111,\"#46039f\"],[0.2222222222222222,\"#7201a8\"],[0.3333333333333333,\"#9c179e\"],[0.4444444444444444,\"#bd3786\"],[0.5555555555555556,\"#d8576b\"],[0.6666666666666666,\"#ed7953\"],[0.7777777777777778,\"#fb9f3a\"],[0.8888888888888888,\"#fdca26\"],[1.0,\"#f0f921\"]]}],\"heatmapgl\":[{\"type\":\"heatmapgl\",\"colorbar\":{\"outlinewidth\":0,\"ticks\":\"\"},\"colorscale\":[[0.0,\"#0d0887\"],[0.1111111111111111,\"#46039f\"],[0.2222222222222222,\"#7201a8\"],[0.3333333333333333,\"#9c179e\"],[0.4444444444444444,\"#bd3786\"],[0.5555555555555556,\"#d8576b\"],[0.6666666666666666,\"#ed7953\"],[0.7777777777777778,\"#fb9f3a\"],[0.8888888888888888,\"#fdca26\"],[1.0,\"#f0f921\"]]}],\"contourcarpet\":[{\"type\":\"contourcarpet\",\"colorbar\":{\"outlinewidth\":0,\"ticks\":\"\"}}],\"contour\":[{\"type\":\"contour\",\"colorbar\":{\"outlinewidth\":0,\"ticks\":\"\"},\"colorscale\":[[0.0,\"#0d0887\"],[0.1111111111111111,\"#46039f\"],[0.2222222222222222,\"#7201a8\"],[0.3333333333333333,\"#9c179e\"],[0.4444444444444444,\"#bd3786\"],[0.5555555555555556,\"#d8576b\"],[0.6666666666666666,\"#ed7953\"],[0.7777777777777778,\"#fb9f3a\"],[0.8888888888888888,\"#fdca26\"],[1.0,\"#f0f921\"]]}],\"surface\":[{\"type\":\"surface\",\"colorbar\":{\"outlinewidth\":0,\"ticks\":\"\"},\"colorscale\":[[0.0,\"#0d0887\"],[0.1111111111111111,\"#46039f\"],[0.2222222222222222,\"#7201a8\"],[0.3333333333333333,\"#9c179e\"],[0.4444444444444444,\"#bd3786\"],[0.5555555555555556,\"#d8576b\"],[0.6666666666666666,\"#ed7953\"],[0.7777777777777778,\"#fb9f3a\"],[0.8888888888888888,\"#fdca26\"],[1.0,\"#f0f921\"]]}],\"mesh3d\":[{\"type\":\"mesh3d\",\"colorbar\":{\"outlinewidth\":0,\"ticks\":\"\"}}],\"scatter\":[{\"fillpattern\":{\"fillmode\":\"overlay\",\"size\":10,\"solidity\":0.2},\"type\":\"scatter\"}],\"parcoords\":[{\"type\":\"parcoords\",\"line\":{\"colorbar\":{\"outlinewidth\":0,\"ticks\":\"\"}}}],\"scatterpolargl\":[{\"type\":\"scatterpolargl\",\"marker\":{\"colorbar\":{\"outlinewidth\":0,\"ticks\":\"\"}}}],\"bar\":[{\"error_x\":{\"color\":\"#2a3f5f\"},\"error_y\":{\"color\":\"#2a3f5f\"},\"marker\":{\"line\":{\"color\":\"#E5ECF6\",\"width\":0.5},\"pattern\":{\"fillmode\":\"overlay\",\"size\":10,\"solidity\":0.2}},\"type\":\"bar\"}],\"scattergeo\":[{\"type\":\"scattergeo\",\"marker\":{\"colorbar\":{\"outlinewidth\":0,\"ticks\":\"\"}}}],\"scatterpolar\":[{\"type\":\"scatterpolar\",\"marker\":{\"colorbar\":{\"outlinewidth\":0,\"ticks\":\"\"}}}],\"histogram\":[{\"marker\":{\"pattern\":{\"fillmode\":\"overlay\",\"size\":10,\"solidity\":0.2}},\"type\":\"histogram\"}],\"scattergl\":[{\"type\":\"scattergl\",\"marker\":{\"colorbar\":{\"outlinewidth\":0,\"ticks\":\"\"}}}],\"scatter3d\":[{\"type\":\"scatter3d\",\"line\":{\"colorbar\":{\"outlinewidth\":0,\"ticks\":\"\"}},\"marker\":{\"colorbar\":{\"outlinewidth\":0,\"ticks\":\"\"}}}],\"scattermapbox\":[{\"type\":\"scattermapbox\",\"marker\":{\"colorbar\":{\"outlinewidth\":0,\"ticks\":\"\"}}}],\"scatterternary\":[{\"type\":\"scatterternary\",\"marker\":{\"colorbar\":{\"outlinewidth\":0,\"ticks\":\"\"}}}],\"scattercarpet\":[{\"type\":\"scattercarpet\",\"marker\":{\"colorbar\":{\"outlinewidth\":0,\"ticks\":\"\"}}}],\"carpet\":[{\"aaxis\":{\"endlinecolor\":\"#2a3f5f\",\"gridcolor\":\"white\",\"linecolor\":\"white\",\"minorgridcolor\":\"white\",\"startlinecolor\":\"#2a3f5f\"},\"baxis\":{\"endlinecolor\":\"#2a3f5f\",\"gridcolor\":\"white\",\"linecolor\":\"white\",\"minorgridcolor\":\"white\",\"startlinecolor\":\"#2a3f5f\"},\"type\":\"carpet\"}],\"table\":[{\"cells\":{\"fill\":{\"color\":\"#EBF0F8\"},\"line\":{\"color\":\"white\"}},\"header\":{\"fill\":{\"color\":\"#C8D4E3\"},\"line\":{\"color\":\"white\"}},\"type\":\"table\"}],\"barpolar\":[{\"marker\":{\"line\":{\"color\":\"#E5ECF6\",\"width\":0.5},\"pattern\":{\"fillmode\":\"overlay\",\"size\":10,\"solidity\":0.2}},\"type\":\"barpolar\"}],\"pie\":[{\"automargin\":true,\"type\":\"pie\"}]},\"layout\":{\"autotypenumbers\":\"strict\",\"colorway\":[\"#636efa\",\"#EF553B\",\"#00cc96\",\"#ab63fa\",\"#FFA15A\",\"#19d3f3\",\"#FF6692\",\"#B6E880\",\"#FF97FF\",\"#FECB52\"],\"font\":{\"color\":\"#2a3f5f\"},\"hovermode\":\"closest\",\"hoverlabel\":{\"align\":\"left\"},\"paper_bgcolor\":\"white\",\"plot_bgcolor\":\"#E5ECF6\",\"polar\":{\"bgcolor\":\"#E5ECF6\",\"angularaxis\":{\"gridcolor\":\"white\",\"linecolor\":\"white\",\"ticks\":\"\"},\"radialaxis\":{\"gridcolor\":\"white\",\"linecolor\":\"white\",\"ticks\":\"\"}},\"ternary\":{\"bgcolor\":\"#E5ECF6\",\"aaxis\":{\"gridcolor\":\"white\",\"linecolor\":\"white\",\"ticks\":\"\"},\"baxis\":{\"gridcolor\":\"white\",\"linecolor\":\"white\",\"ticks\":\"\"},\"caxis\":{\"gridcolor\":\"white\",\"linecolor\":\"white\",\"ticks\":\"\"}},\"coloraxis\":{\"colorbar\":{\"outlinewidth\":0,\"ticks\":\"\"}},\"colorscale\":{\"sequential\":[[0.0,\"#0d0887\"],[0.1111111111111111,\"#46039f\"],[0.2222222222222222,\"#7201a8\"],[0.3333333333333333,\"#9c179e\"],[0.4444444444444444,\"#bd3786\"],[0.5555555555555556,\"#d8576b\"],[0.6666666666666666,\"#ed7953\"],[0.7777777777777778,\"#fb9f3a\"],[0.8888888888888888,\"#fdca26\"],[1.0,\"#f0f921\"]],\"sequentialminus\":[[0.0,\"#0d0887\"],[0.1111111111111111,\"#46039f\"],[0.2222222222222222,\"#7201a8\"],[0.3333333333333333,\"#9c179e\"],[0.4444444444444444,\"#bd3786\"],[0.5555555555555556,\"#d8576b\"],[0.6666666666666666,\"#ed7953\"],[0.7777777777777778,\"#fb9f3a\"],[0.8888888888888888,\"#fdca26\"],[1.0,\"#f0f921\"]],\"diverging\":[[0,\"#8e0152\"],[0.1,\"#c51b7d\"],[0.2,\"#de77ae\"],[0.3,\"#f1b6da\"],[0.4,\"#fde0ef\"],[0.5,\"#f7f7f7\"],[0.6,\"#e6f5d0\"],[0.7,\"#b8e186\"],[0.8,\"#7fbc41\"],[0.9,\"#4d9221\"],[1,\"#276419\"]]},\"xaxis\":{\"gridcolor\":\"white\",\"linecolor\":\"white\",\"ticks\":\"\",\"title\":{\"standoff\":15},\"zerolinecolor\":\"white\",\"automargin\":true,\"zerolinewidth\":2},\"yaxis\":{\"gridcolor\":\"white\",\"linecolor\":\"white\",\"ticks\":\"\",\"title\":{\"standoff\":15},\"zerolinecolor\":\"white\",\"automargin\":true,\"zerolinewidth\":2},\"scene\":{\"xaxis\":{\"backgroundcolor\":\"#E5ECF6\",\"gridcolor\":\"white\",\"linecolor\":\"white\",\"showbackground\":true,\"ticks\":\"\",\"zerolinecolor\":\"white\",\"gridwidth\":2},\"yaxis\":{\"backgroundcolor\":\"#E5ECF6\",\"gridcolor\":\"white\",\"linecolor\":\"white\",\"showbackground\":true,\"ticks\":\"\",\"zerolinecolor\":\"white\",\"gridwidth\":2},\"zaxis\":{\"backgroundcolor\":\"#E5ECF6\",\"gridcolor\":\"white\",\"linecolor\":\"white\",\"showbackground\":true,\"ticks\":\"\",\"zerolinecolor\":\"white\",\"gridwidth\":2}},\"shapedefaults\":{\"line\":{\"color\":\"#2a3f5f\"}},\"annotationdefaults\":{\"arrowcolor\":\"#2a3f5f\",\"arrowhead\":0,\"arrowwidth\":1},\"geo\":{\"bgcolor\":\"white\",\"landcolor\":\"#E5ECF6\",\"subunitcolor\":\"white\",\"showland\":true,\"showlakes\":true,\"lakecolor\":\"white\"},\"title\":{\"x\":0.05},\"mapbox\":{\"style\":\"light\"}}},\"title\":{\"text\":\"Candidate Hire Counts for Selected Option\"},\"xaxis\":{\"title\":{\"text\":\"Candidate\"}},\"yaxis\":{\"title\":{\"text\":\"Hire Count\"}},\"barmode\":\"stack\"},                        {\"responsive\": true}                    ).then(function(){\n",
       "                            \n",
       "var gd = document.getElementById('1a13dd51-858e-4f8f-859e-ecc0ac28a68b');\n",
       "var x = new MutationObserver(function (mutations, observer) {{\n",
       "        var display = window.getComputedStyle(gd).display;\n",
       "        if (!display || display === 'none') {{\n",
       "            console.log([gd, 'removed!']);\n",
       "            Plotly.purge(gd);\n",
       "            observer.disconnect();\n",
       "        }}\n",
       "}});\n",
       "\n",
       "// Listen for the removal of the full notebook cells\n",
       "var notebookContainer = gd.closest('#notebook-container');\n",
       "if (notebookContainer) {{\n",
       "    x.observe(notebookContainer, {childList: true});\n",
       "}}\n",
       "\n",
       "// Listen for the clearing of the current output cell\n",
       "var outputEl = gd.closest('.output');\n",
       "if (outputEl) {{\n",
       "    x.observe(outputEl, {childList: true});\n",
       "}}\n",
       "\n",
       "                        })                };                });            </script>        </div>"
      ]
     },
     "metadata": {},
     "output_type": "display_data"
    }
   ],
   "source": [
    "def show_solutions_gui(options, candidate_hire_count):\n",
    "    root = tk.Tk()\n",
    "    root.title(\"Constraint Problem Solutions\")\n",
    "\n",
    "    # Function to format option for display\n",
    "    def format_option(option):\n",
    "        formatted_option = \"\"\n",
    "        for role, candidate in option.items():\n",
    "            formatted_option += f\"Role {role}: {candidate}\\n\"\n",
    "        return formatted_option\n",
    "\n",
    "    # Listbox to display options\n",
    "    listbox = tk.Listbox(root, selectmode=tk.SINGLE)\n",
    "    listbox.pack(pady=10)\n",
    "\n",
    "    for i, option in enumerate(options):\n",
    "        formatted_option = format_option(option)\n",
    "        listbox.insert(tk.END, formatted_option)\n",
    "\n",
    "    # Label for candidate hire counts\n",
    "    hire_counts_label = tk.Label(root, text=\"Candidate Hire Counts:\")\n",
    "    hire_counts_label.pack(pady=10)\n",
    "\n",
    "    # Function to update chart on listbox selection\n",
    "    def update_chart(selected_option_index):\n",
    "        if not selected_option_index:\n",
    "            return\n",
    "\n",
    "        selected_option = candidate_hire_count[selected_option_index[0]]\n",
    "\n",
    "        fig = go.Figure()\n",
    "        for candidate, count in selected_option.items():\n",
    "            fig.add_trace(go.Bar(x=[candidate], y=[count], name=f'{candidate} Hire Count'))\n",
    "\n",
    "        fig.update_layout(\n",
    "            title='Candidate Hire Counts for Selected Option',\n",
    "            xaxis_title='Candidate',\n",
    "            yaxis_title='Hire Count',\n",
    "            barmode='stack'\n",
    "        )\n",
    "\n",
    "        fig.show()\n",
    "\n",
    "    listbox.bind(\"<ButtonRelease-1>\", lambda event: update_chart(listbox.curselection()))\n",
    "\n",
    "    root.mainloop()\n",
    "\n",
    "# Display solutions and candidate hire counts in GUI\n",
    "show_solutions_gui(options, candidate_hire_count)\n"
   ]
  },
  {
   "cell_type": "code",
   "execution_count": null,
   "id": "dfae0f9c",
   "metadata": {},
   "outputs": [],
   "source": []
  },
  {
   "cell_type": "code",
   "execution_count": 21,
   "id": "9a8da0a6",
   "metadata": {},
   "outputs": [],
   "source": [
    "import tkinter as tk\n",
    "from tkinter import ttk\n",
    "\n",
    "# Define the roles and the candidates with their qualifications\n",
    "roles = [\"Py_1\", \"Py_2\", \"AI_1\", \"AI_2\", \"Web\", \"Database\", \"Systems\"]\n",
    "candidates = {\n",
    "    \"Ciara\": [\"Py_1\"],\n",
    "    \"Peter\": [\"Py_2\", \"AI_1\", \"AI_2\"],\n",
    "    \"Juan\": [\"Web\", \"AI_1\", \"AI_2\"],\n",
    "    \"Jim\": [\"AI_1\", \"AI_2\", \"Systems\"],\n",
    "    \"Jane\": [\"Py_2\", \"Database\"],\n",
    "    \"Mary\": [\"Web\", \"Systems\"],\n",
    "    \"Bruce\": [\"Systems\", \"Py_2\"],\n",
    "    \"Anita\": [\"Web\", \"AI_1\", \"AI_2\"]\n",
    "}\n",
    "\n",
    "# Initialize variables to store the current solution and the list of solutions\n",
    "current_option = {}\n",
    "options = []\n",
    "\n",
    "# Define the constraints\n",
    "def is_valid(option):\n",
    "    # Ciara must take Py_1\n",
    "    if option.get(\"Py_1\") != \"Ciara\":\n",
    "        return False\n",
    "\n",
    "    # A person can only occupy one of the two available AI positions\n",
    "    ai_roles = [option.get(\"AI_1\"), option.get(\"AI_2\")]\n",
    "    if len(set(ai_roles)) != 2:\n",
    "        return False\n",
    "\n",
    "    # Jane is the only one qualified to occupy the database position\n",
    "    if option.get(\"Database\") != \"Jane\":\n",
    "        return False\n",
    "\n",
    "    # Check if Ciara can hire 3 more people\n",
    "    if len(set(current_option.values())) > 4:\n",
    "        return False\n",
    "\n",
    "    # Check if a person can only occupy a maximum of two roles\n",
    "    candidates_count = {candidate: list(current_option.values()).count(candidate) for candidate in candidates.keys()}\n",
    "    if any(count > 2 for count in candidates_count.values()):\n",
    "        return False\n",
    "\n",
    "    # Check if the individual is qualified for the roles they occupy\n",
    "    for role, candidate in option.items():\n",
    "        if role not in candidates[candidate]:\n",
    "            return False\n",
    "\n",
    "    return True\n",
    "\n",
    "# Define the backtracking algorithm\n",
    "def backtrack(role_index):\n",
    "    if role_index == len(roles):\n",
    "        # All roles are filled, check if the solution is valid\n",
    "        if is_valid(current_option):\n",
    "            options.append(dict(current_option))\n",
    "        return\n",
    "\n",
    "    current_role = roles[role_index]\n",
    "\n",
    "    for candidate in candidates.keys():\n",
    "        current_option[current_role] = candidate\n",
    "        backtrack(role_index + 1)\n",
    "        current_option[current_role] = None\n",
    "\n",
    "# Run the backtracking algorithm\n",
    "backtrack(0)\n",
    "\n",
    "# GUI\n",
    "def show_candidates(event):\n",
    "    selected_option_index = listbox.curselection()\n",
    "    \n",
    "    if not selected_option_index:\n",
    "        return\n",
    "    \n",
    "    selected_option = int(selected_option_index[0]) + 1\n",
    "    option_label.config(text=f\"Option {selected_option} Candidates:\")\n",
    "    \n",
    "    for i, role in enumerate(roles):\n",
    "        candidate_name = options[selected_option - 1][role]\n",
    "        candidates_label[i].config(text=f\"Role {role}: {candidate_name}\")\n",
    "\n",
    "root = tk.Tk()\n",
    "root.title(\"Candidates by Option\")\n",
    "\n",
    "listbox = tk.Listbox(root)\n",
    "for i in range(1, len(options) + 1):\n",
    "    listbox.insert(tk.END, f\"Option {i}\")\n",
    "listbox.pack(pady=10)\n",
    "listbox.bind(\"<ButtonRelease-1>\", show_candidates)\n",
    "\n",
    "option_label = tk.Label(root, text=\"\")\n",
    "option_label.pack(pady=10)\n",
    "\n",
    "candidates_label = []\n",
    "for role in roles:\n",
    "    label = tk.Label(root, text=\"\")\n",
    "    candidates_label.append(label)\n",
    "    label.pack()\n",
    "\n",
    "root.mainloop()\n"
   ]
  },
  {
   "cell_type": "code",
   "execution_count": null,
   "id": "2c36f1c7",
   "metadata": {},
   "outputs": [
    {
     "name": "stdout",
     "output_type": "stream",
     "text": [
      "Option 1:\n",
      "Role AI_1: Anita\n",
      "Role AI_2: Jim\n",
      "Role AI_3: Juan\n",
      "Role Py_1: Bruce\n",
      "Role Py_2: Ciara\n",
      "Role Database: Jane\n",
      "Role Systems: Bruce\n",
      "Role Web: Juan\n",
      "\n",
      "Option 2:\n",
      "Role AI_1: Anita\n",
      "Role AI_2: Jim\n",
      "Role AI_3: Juan\n",
      "Role Py_1: Bruce\n",
      "Role Py_2: Ciara\n",
      "Role Database: Jane\n",
      "Role Systems: Bruce\n",
      "Role Web: Anita\n",
      "\n",
      "Option 3:\n",
      "Role AI_1: Anita\n",
      "Role AI_2: Jim\n",
      "Role AI_3: Juan\n",
      "Role Py_1: Bruce\n",
      "Role Py_2: Ciara\n",
      "Role Database: Jane\n",
      "Role Systems: Jim\n",
      "Role Web: Juan\n",
      "\n",
      "Option 4:\n",
      "Role AI_1: Anita\n",
      "Role AI_2: Jim\n",
      "Role AI_3: Juan\n",
      "Role Py_1: Bruce\n",
      "Role Py_2: Ciara\n",
      "Role Database: Jane\n",
      "Role Systems: Jim\n",
      "Role Web: Anita\n",
      "\n",
      "Option 5:\n",
      "Role AI_1: Anita\n",
      "Role AI_2: Jim\n",
      "Role AI_3: Juan\n",
      "Role Py_1: Bruce\n",
      "Role Py_2: Jane\n",
      "Role Database: Jane\n",
      "Role Systems: Bruce\n",
      "Role Web: Juan\n",
      "\n",
      "Option 6:\n",
      "Role AI_1: Anita\n",
      "Role AI_2: Jim\n",
      "Role AI_3: Juan\n",
      "Role Py_1: Bruce\n",
      "Role Py_2: Jane\n",
      "Role Database: Jane\n",
      "Role Systems: Bruce\n",
      "Role Web: Anita\n",
      "\n",
      "Option 7:\n",
      "Role AI_1: Anita\n",
      "Role AI_2: Jim\n",
      "Role AI_3: Juan\n",
      "Role Py_1: Bruce\n",
      "Role Py_2: Jane\n",
      "Role Database: Jane\n",
      "Role Systems: Jim\n",
      "Role Web: Juan\n",
      "\n",
      "Option 8:\n",
      "Role AI_1: Anita\n",
      "Role AI_2: Jim\n",
      "Role AI_3: Juan\n",
      "Role Py_1: Bruce\n",
      "Role Py_2: Jane\n",
      "Role Database: Jane\n",
      "Role Systems: Jim\n",
      "Role Web: Anita\n",
      "\n",
      "Option 9:\n",
      "Role AI_1: Anita\n",
      "Role AI_2: Jim\n",
      "Role AI_3: Juan\n",
      "Role Py_1: Ciara\n",
      "Role Py_2: Jane\n",
      "Role Database: Jane\n",
      "Role Systems: Bruce\n",
      "Role Web: Juan\n",
      "\n",
      "Option 10:\n",
      "Role AI_1: Anita\n",
      "Role AI_2: Jim\n",
      "Role AI_3: Juan\n",
      "Role Py_1: Ciara\n",
      "Role Py_2: Jane\n",
      "Role Database: Jane\n",
      "Role Systems: Bruce\n",
      "Role Web: Anita\n",
      "\n",
      "Option 11:\n",
      "Role AI_1: Anita\n",
      "Role AI_2: Jim\n",
      "Role AI_3: Juan\n",
      "Role Py_1: Ciara\n",
      "Role Py_2: Jane\n",
      "Role Database: Jane\n",
      "Role Systems: Mary\n",
      "Role Web: Mary\n",
      "\n",
      "Option 12:\n",
      "Role AI_1: Anita\n",
      "Role AI_2: Jim\n",
      "Role AI_3: Juan\n",
      "Role Py_1: Ciara\n",
      "Role Py_2: Jane\n",
      "Role Database: Jane\n",
      "Role Systems: Mary\n",
      "Role Web: Juan\n",
      "\n",
      "Option 13:\n",
      "Role AI_1: Anita\n",
      "Role AI_2: Jim\n",
      "Role AI_3: Juan\n",
      "Role Py_1: Ciara\n",
      "Role Py_2: Jane\n",
      "Role Database: Jane\n",
      "Role Systems: Mary\n",
      "Role Web: Anita\n",
      "\n",
      "Option 14:\n",
      "Role AI_1: Anita\n",
      "Role AI_2: Jim\n",
      "Role AI_3: Juan\n",
      "Role Py_1: Ciara\n",
      "Role Py_2: Jane\n",
      "Role Database: Jane\n",
      "Role Systems: Jim\n",
      "Role Web: Mary\n",
      "\n",
      "Option 15:\n",
      "Role AI_1: Anita\n",
      "Role AI_2: Jim\n",
      "Role AI_3: Juan\n",
      "Role Py_1: Ciara\n",
      "Role Py_2: Jane\n",
      "Role Database: Jane\n",
      "Role Systems: Jim\n",
      "Role Web: Juan\n",
      "\n",
      "Option 16:\n",
      "Role AI_1: Anita\n",
      "Role AI_2: Jim\n",
      "Role AI_3: Juan\n",
      "Role Py_1: Ciara\n",
      "Role Py_2: Jane\n",
      "Role Database: Jane\n",
      "Role Systems: Jim\n",
      "Role Web: Anita\n",
      "\n",
      "Option 17:\n",
      "Role AI_1: Anita\n",
      "Role AI_2: Jim\n",
      "Role AI_3: Juan\n",
      "Role Py_1: Jane\n",
      "Role Py_2: Peter\n",
      "Role Database: Jane\n",
      "Role Systems: Jim\n",
      "Role Web: Juan\n",
      "\n",
      "Option 18:\n",
      "Role AI_1: Anita\n",
      "Role AI_2: Jim\n",
      "Role AI_3: Juan\n",
      "Role Py_1: Jane\n",
      "Role Py_2: Peter\n",
      "Role Database: Jane\n",
      "Role Systems: Jim\n",
      "Role Web: Anita\n",
      "\n",
      "Option 19:\n",
      "Role AI_1: Anita\n",
      "Role AI_2: Jim\n",
      "Role AI_3: Juan\n",
      "Role Py_1: Ciara\n",
      "Role Py_2: Peter\n",
      "Role Database: Jane\n",
      "Role Systems: Jim\n",
      "Role Web: Juan\n",
      "\n",
      "Option 20:\n",
      "Role AI_1: Anita\n",
      "Role AI_2: Jim\n",
      "Role AI_3: Juan\n",
      "Role Py_1: Ciara\n",
      "Role Py_2: Peter\n",
      "Role Database: Jane\n",
      "Role Systems: Jim\n",
      "Role Web: Anita\n",
      "\n",
      "Option 21:\n",
      "Role AI_1: Anita\n",
      "Role AI_2: Jim\n",
      "Role AI_3: Peter\n",
      "Role Py_1: Ciara\n",
      "Role Py_2: Jane\n",
      "Role Database: Jane\n",
      "Role Systems: Jim\n",
      "Role Web: Juan\n",
      "\n",
      "Option 22:\n",
      "Role AI_1: Anita\n",
      "Role AI_2: Jim\n",
      "Role AI_3: Peter\n",
      "Role Py_1: Ciara\n",
      "Role Py_2: Jane\n",
      "Role Database: Jane\n",
      "Role Systems: Jim\n",
      "Role Web: Anita\n",
      "\n",
      "Option 23:\n",
      "Role AI_1: Anita\n",
      "Role AI_2: Jim\n",
      "Role AI_3: Peter\n",
      "Role Py_1: Jane\n",
      "Role Py_2: Peter\n",
      "Role Database: Jane\n",
      "Role Systems: Jim\n",
      "Role Web: Juan\n",
      "\n",
      "Option 24:\n",
      "Role AI_1: Anita\n",
      "Role AI_2: Jim\n",
      "Role AI_3: Peter\n",
      "Role Py_1: Jane\n",
      "Role Py_2: Peter\n",
      "Role Database: Jane\n",
      "Role Systems: Jim\n",
      "Role Web: Anita\n",
      "\n",
      "Option 25:\n",
      "Role AI_1: Anita\n",
      "Role AI_2: Jim\n",
      "Role AI_3: Peter\n",
      "Role Py_1: Ciara\n",
      "Role Py_2: Peter\n",
      "Role Database: Jane\n",
      "Role Systems: Jim\n",
      "Role Web: Juan\n",
      "\n",
      "Option 26:\n",
      "Role AI_1: Anita\n",
      "Role AI_2: Jim\n",
      "Role AI_3: Peter\n",
      "Role Py_1: Ciara\n",
      "Role Py_2: Peter\n",
      "Role Database: Jane\n",
      "Role Systems: Jim\n",
      "Role Web: Anita\n",
      "\n",
      "Option 27:\n",
      "Role AI_1: Anita\n",
      "Role AI_2: Juan\n",
      "Role AI_3: Peter\n",
      "Role Py_1: Bruce\n",
      "Role Py_2: Ciara\n",
      "Role Database: Jane\n",
      "Role Systems: Bruce\n",
      "Role Web: Juan\n",
      "\n",
      "Option 28:\n",
      "Role AI_1: Anita\n",
      "Role AI_2: Juan\n",
      "Role AI_3: Peter\n",
      "Role Py_1: Bruce\n",
      "Role Py_2: Ciara\n",
      "Role Database: Jane\n",
      "Role Systems: Bruce\n",
      "Role Web: Anita\n",
      "\n",
      "Option 29:\n",
      "Role AI_1: Anita\n",
      "Role AI_2: Juan\n",
      "Role AI_3: Peter\n",
      "Role Py_1: Bruce\n",
      "Role Py_2: Peter\n",
      "Role Database: Jane\n",
      "Role Systems: Bruce\n",
      "Role Web: Juan\n",
      "\n",
      "Option 30:\n",
      "Role AI_1: Anita\n",
      "Role AI_2: Juan\n",
      "Role AI_3: Peter\n",
      "Role Py_1: Bruce\n",
      "Role Py_2: Peter\n",
      "Role Database: Jane\n",
      "Role Systems: Bruce\n",
      "Role Web: Anita\n",
      "\n",
      "Option 31:\n",
      "Role AI_1: Anita\n",
      "Role AI_2: Juan\n",
      "Role AI_3: Peter\n",
      "Role Py_1: Bruce\n",
      "Role Py_2: Jane\n",
      "Role Database: Jane\n",
      "Role Systems: Bruce\n",
      "Role Web: Juan\n",
      "\n",
      "Option 32:\n",
      "Role AI_1: Anita\n",
      "Role AI_2: Juan\n",
      "Role AI_3: Peter\n",
      "Role Py_1: Bruce\n",
      "Role Py_2: Jane\n",
      "Role Database: Jane\n",
      "Role Systems: Bruce\n",
      "Role Web: Anita\n",
      "\n",
      "Option 33:\n",
      "Role AI_1: Anita\n",
      "Role AI_2: Juan\n",
      "Role AI_3: Peter\n",
      "Role Py_1: Ciara\n",
      "Role Py_2: Jane\n",
      "Role Database: Jane\n",
      "Role Systems: Bruce\n",
      "Role Web: Juan\n",
      "\n",
      "Option 34:\n",
      "Role AI_1: Anita\n",
      "Role AI_2: Juan\n",
      "Role AI_3: Peter\n",
      "Role Py_1: Ciara\n",
      "Role Py_2: Jane\n",
      "Role Database: Jane\n",
      "Role Systems: Bruce\n",
      "Role Web: Anita\n",
      "\n",
      "Option 35:\n",
      "Role AI_1: Anita\n",
      "Role AI_2: Juan\n",
      "Role AI_3: Peter\n",
      "Role Py_1: Ciara\n",
      "Role Py_2: Jane\n",
      "Role Database: Jane\n",
      "Role Systems: Mary\n",
      "Role Web: Mary\n",
      "\n",
      "Option 36:\n",
      "Role AI_1: Anita\n",
      "Role AI_2: Juan\n",
      "Role AI_3: Peter\n",
      "Role Py_1: Ciara\n",
      "Role Py_2: Jane\n",
      "Role Database: Jane\n",
      "Role Systems: Mary\n",
      "Role Web: Juan\n",
      "\n",
      "Option 37:\n",
      "Role AI_1: Anita\n",
      "Role AI_2: Juan\n",
      "Role AI_3: Peter\n",
      "Role Py_1: Ciara\n",
      "Role Py_2: Jane\n",
      "Role Database: Jane\n",
      "Role Systems: Mary\n",
      "Role Web: Anita\n",
      "\n",
      "Option 38:\n",
      "Role AI_1: Anita\n",
      "Role AI_2: Juan\n",
      "Role AI_3: Peter\n",
      "Role Py_1: Ciara\n",
      "Role Py_2: Jane\n",
      "Role Database: Jane\n",
      "Role Systems: Jim\n",
      "Role Web: Juan\n",
      "\n",
      "Option 39:\n",
      "Role AI_1: Anita\n",
      "Role AI_2: Juan\n",
      "Role AI_3: Peter\n",
      "Role Py_1: Ciara\n",
      "Role Py_2: Jane\n",
      "Role Database: Jane\n",
      "Role Systems: Jim\n",
      "Role Web: Anita\n",
      "\n",
      "Option 40:\n",
      "Role AI_1: Anita\n",
      "Role AI_2: Juan\n",
      "Role AI_3: Peter\n",
      "Role Py_1: Jane\n",
      "Role Py_2: Peter\n",
      "Role Database: Jane\n",
      "Role Systems: Bruce\n",
      "Role Web: Juan\n",
      "\n",
      "Option 41:\n",
      "Role AI_1: Anita\n",
      "Role AI_2: Juan\n",
      "Role AI_3: Peter\n",
      "Role Py_1: Jane\n",
      "Role Py_2: Peter\n",
      "Role Database: Jane\n",
      "Role Systems: Bruce\n",
      "Role Web: Anita\n",
      "\n",
      "Option 42:\n",
      "Role AI_1: Anita\n",
      "Role AI_2: Juan\n",
      "Role AI_3: Peter\n",
      "Role Py_1: Jane\n",
      "Role Py_2: Peter\n",
      "Role Database: Jane\n",
      "Role Systems: Mary\n",
      "Role Web: Mary\n",
      "\n",
      "Option 43:\n",
      "Role AI_1: Anita\n",
      "Role AI_2: Juan\n",
      "Role AI_3: Peter\n",
      "Role Py_1: Jane\n",
      "Role Py_2: Peter\n",
      "Role Database: Jane\n",
      "Role Systems: Mary\n",
      "Role Web: Juan\n",
      "\n",
      "Option 44:\n",
      "Role AI_1: Anita\n",
      "Role AI_2: Juan\n",
      "Role AI_3: Peter\n",
      "Role Py_1: Jane\n",
      "Role Py_2: Peter\n",
      "Role Database: Jane\n",
      "Role Systems: Mary\n",
      "Role Web: Anita\n",
      "\n",
      "Option 45:\n",
      "Role AI_1: Anita\n",
      "Role AI_2: Juan\n",
      "Role AI_3: Peter\n",
      "Role Py_1: Jane\n",
      "Role Py_2: Peter\n",
      "Role Database: Jane\n",
      "Role Systems: Jim\n",
      "Role Web: Juan\n",
      "\n",
      "Option 46:\n",
      "Role AI_1: Anita\n",
      "Role AI_2: Juan\n",
      "Role AI_3: Peter\n",
      "Role Py_1: Jane\n",
      "Role Py_2: Peter\n",
      "Role Database: Jane\n",
      "Role Systems: Jim\n",
      "Role Web: Anita\n",
      "\n",
      "Option 47:\n",
      "Role AI_1: Anita\n",
      "Role AI_2: Juan\n",
      "Role AI_3: Peter\n",
      "Role Py_1: Ciara\n",
      "Role Py_2: Peter\n",
      "Role Database: Jane\n",
      "Role Systems: Bruce\n",
      "Role Web: Juan\n",
      "\n",
      "Option 48:\n",
      "Role AI_1: Anita\n",
      "Role AI_2: Juan\n",
      "Role AI_3: Peter\n",
      "Role Py_1: Ciara\n",
      "Role Py_2: Peter\n",
      "Role Database: Jane\n",
      "Role Systems: Bruce\n",
      "Role Web: Anita\n",
      "\n",
      "Option 49:\n",
      "Role AI_1: Anita\n",
      "Role AI_2: Juan\n",
      "Role AI_3: Peter\n",
      "Role Py_1: Ciara\n",
      "Role Py_2: Peter\n",
      "Role Database: Jane\n",
      "Role Systems: Mary\n",
      "Role Web: Mary\n",
      "\n",
      "Option 50:\n",
      "Role AI_1: Anita\n",
      "Role AI_2: Juan\n",
      "Role AI_3: Peter\n",
      "Role Py_1: Ciara\n",
      "Role Py_2: Peter\n",
      "Role Database: Jane\n",
      "Role Systems: Mary\n",
      "Role Web: Juan\n",
      "\n",
      "Option 51:\n",
      "Role AI_1: Anita\n",
      "Role AI_2: Juan\n",
      "Role AI_3: Peter\n",
      "Role Py_1: Ciara\n",
      "Role Py_2: Peter\n",
      "Role Database: Jane\n",
      "Role Systems: Mary\n",
      "Role Web: Anita\n",
      "\n",
      "Option 52:\n",
      "Role AI_1: Anita\n",
      "Role AI_2: Juan\n",
      "Role AI_3: Peter\n",
      "Role Py_1: Ciara\n",
      "Role Py_2: Peter\n",
      "Role Database: Jane\n",
      "Role Systems: Jim\n",
      "Role Web: Juan\n",
      "\n",
      "Option 53:\n",
      "Role AI_1: Anita\n",
      "Role AI_2: Juan\n",
      "Role AI_3: Peter\n",
      "Role Py_1: Ciara\n",
      "Role Py_2: Peter\n",
      "Role Database: Jane\n",
      "Role Systems: Jim\n",
      "Role Web: Anita\n",
      "\n",
      "Option 54:\n",
      "Role AI_1: Jim\n",
      "Role AI_2: Juan\n",
      "Role AI_3: Peter\n",
      "Role Py_1: Bruce\n",
      "Role Py_2: Ciara\n",
      "Role Database: Jane\n",
      "Role Systems: Bruce\n",
      "Role Web: Juan\n",
      "\n",
      "Option 55:\n",
      "Role AI_1: Jim\n",
      "Role AI_2: Juan\n",
      "Role AI_3: Peter\n",
      "Role Py_1: Bruce\n",
      "Role Py_2: Ciara\n",
      "Role Database: Jane\n",
      "Role Systems: Jim\n",
      "Role Web: Juan\n",
      "\n",
      "Option 56:\n",
      "Role AI_1: Jim\n",
      "Role AI_2: Juan\n",
      "Role AI_3: Peter\n",
      "Role Py_1: Bruce\n",
      "Role Py_2: Peter\n",
      "Role Database: Jane\n",
      "Role Systems: Bruce\n",
      "Role Web: Juan\n",
      "\n",
      "Option 57:\n",
      "Role AI_1: Jim\n",
      "Role AI_2: Juan\n",
      "Role AI_3: Peter\n",
      "Role Py_1: Bruce\n",
      "Role Py_2: Peter\n",
      "Role Database: Jane\n",
      "Role Systems: Jim\n",
      "Role Web: Juan\n",
      "\n",
      "Option 58:\n",
      "Role AI_1: Jim\n",
      "Role AI_2: Juan\n",
      "Role AI_3: Peter\n",
      "Role Py_1: Bruce\n",
      "Role Py_2: Jane\n",
      "Role Database: Jane\n",
      "Role Systems: Bruce\n",
      "Role Web: Juan\n",
      "\n",
      "Option 59:\n",
      "Role AI_1: Jim\n",
      "Role AI_2: Juan\n",
      "Role AI_3: Peter\n",
      "Role Py_1: Bruce\n",
      "Role Py_2: Jane\n",
      "Role Database: Jane\n",
      "Role Systems: Jim\n",
      "Role Web: Juan\n",
      "\n",
      "Option 60:\n",
      "Role AI_1: Jim\n",
      "Role AI_2: Juan\n",
      "Role AI_3: Peter\n",
      "Role Py_1: Ciara\n",
      "Role Py_2: Jane\n",
      "Role Database: Jane\n",
      "Role Systems: Bruce\n",
      "Role Web: Juan\n",
      "\n",
      "Option 61:\n",
      "Role AI_1: Jim\n",
      "Role AI_2: Juan\n",
      "Role AI_3: Peter\n",
      "Role Py_1: Ciara\n",
      "Role Py_2: Jane\n",
      "Role Database: Jane\n",
      "Role Systems: Mary\n",
      "Role Web: Mary\n",
      "\n",
      "Option 62:\n",
      "Role AI_1: Jim\n",
      "Role AI_2: Juan\n",
      "Role AI_3: Peter\n",
      "Role Py_1: Ciara\n",
      "Role Py_2: Jane\n",
      "Role Database: Jane\n",
      "Role Systems: Mary\n",
      "Role Web: Juan\n",
      "\n",
      "Option 63:\n",
      "Role AI_1: Jim\n",
      "Role AI_2: Juan\n",
      "Role AI_3: Peter\n",
      "Role Py_1: Ciara\n",
      "Role Py_2: Jane\n",
      "Role Database: Jane\n",
      "Role Systems: Jim\n",
      "Role Web: Anita\n",
      "\n",
      "Option 64:\n",
      "Role AI_1: Jim\n",
      "Role AI_2: Juan\n",
      "Role AI_3: Peter\n",
      "Role Py_1: Ciara\n",
      "Role Py_2: Jane\n",
      "Role Database: Jane\n",
      "Role Systems: Jim\n",
      "Role Web: Mary\n",
      "\n",
      "Option 65:\n",
      "Role AI_1: Jim\n",
      "Role AI_2: Juan\n",
      "Role AI_3: Peter\n",
      "Role Py_1: Ciara\n",
      "Role Py_2: Jane\n",
      "Role Database: Jane\n",
      "Role Systems: Jim\n",
      "Role Web: Juan\n",
      "\n",
      "Option 66:\n",
      "Role AI_1: Jim\n",
      "Role AI_2: Juan\n",
      "Role AI_3: Peter\n",
      "Role Py_1: Jane\n",
      "Role Py_2: Peter\n",
      "Role Database: Jane\n",
      "Role Systems: Bruce\n",
      "Role Web: Juan\n",
      "\n",
      "Option 67:\n",
      "Role AI_1: Jim\n",
      "Role AI_2: Juan\n",
      "Role AI_3: Peter\n",
      "Role Py_1: Jane\n",
      "Role Py_2: Peter\n",
      "Role Database: Jane\n",
      "Role Systems: Mary\n",
      "Role Web: Mary\n",
      "\n",
      "Option 68:\n",
      "Role AI_1: Jim\n",
      "Role AI_2: Juan\n",
      "Role AI_3: Peter\n",
      "Role Py_1: Jane\n",
      "Role Py_2: Peter\n",
      "Role Database: Jane\n",
      "Role Systems: Mary\n",
      "Role Web: Juan\n",
      "\n",
      "Option 69:\n",
      "Role AI_1: Jim\n",
      "Role AI_2: Juan\n",
      "Role AI_3: Peter\n",
      "Role Py_1: Jane\n",
      "Role Py_2: Peter\n",
      "Role Database: Jane\n",
      "Role Systems: Jim\n",
      "Role Web: Anita\n",
      "\n",
      "Option 70:\n",
      "Role AI_1: Jim\n",
      "Role AI_2: Juan\n",
      "Role AI_3: Peter\n",
      "Role Py_1: Jane\n",
      "Role Py_2: Peter\n",
      "Role Database: Jane\n",
      "Role Systems: Jim\n",
      "Role Web: Mary\n",
      "\n",
      "Option 71:\n",
      "Role AI_1: Jim\n",
      "Role AI_2: Juan\n",
      "Role AI_3: Peter\n",
      "Role Py_1: Jane\n",
      "Role Py_2: Peter\n",
      "Role Database: Jane\n",
      "Role Systems: Jim\n",
      "Role Web: Juan\n",
      "\n",
      "Option 72:\n",
      "Role AI_1: Jim\n",
      "Role AI_2: Juan\n",
      "Role AI_3: Peter\n",
      "Role Py_1: Ciara\n",
      "Role Py_2: Peter\n",
      "Role Database: Jane\n",
      "Role Systems: Bruce\n",
      "Role Web: Juan\n",
      "\n",
      "Option 73:\n",
      "Role AI_1: Jim\n",
      "Role AI_2: Juan\n",
      "Role AI_3: Peter\n",
      "Role Py_1: Ciara\n",
      "Role Py_2: Peter\n",
      "Role Database: Jane\n",
      "Role Systems: Mary\n",
      "Role Web: Mary\n",
      "\n",
      "Option 74:\n",
      "Role AI_1: Jim\n",
      "Role AI_2: Juan\n",
      "Role AI_3: Peter\n",
      "Role Py_1: Ciara\n",
      "Role Py_2: Peter\n",
      "Role Database: Jane\n",
      "Role Systems: Mary\n",
      "Role Web: Juan\n",
      "\n",
      "Option 75:\n",
      "Role AI_1: Jim\n",
      "Role AI_2: Juan\n",
      "Role AI_3: Peter\n",
      "Role Py_1: Ciara\n",
      "Role Py_2: Peter\n",
      "Role Database: Jane\n",
      "Role Systems: Jim\n",
      "Role Web: Anita\n",
      "\n",
      "Option 76:\n",
      "Role AI_1: Jim\n",
      "Role AI_2: Juan\n",
      "Role AI_3: Peter\n",
      "Role Py_1: Ciara\n",
      "Role Py_2: Peter\n",
      "Role Database: Jane\n",
      "Role Systems: Jim\n",
      "Role Web: Mary\n",
      "\n",
      "Option 77:\n",
      "Role AI_1: Jim\n",
      "Role AI_2: Juan\n",
      "Role AI_3: Peter\n",
      "Role Py_1: Ciara\n",
      "Role Py_2: Peter\n",
      "Role Database: Jane\n",
      "Role Systems: Jim\n",
      "Role Web: Juan\n",
      "\n",
      "\n",
      "Candidate Hire Counts:\n",
      "Ciara: 576 times\n",
      "Peter: 1140 times\n",
      "Juan: 1320 times\n",
      "Jim: 1020 times\n",
      "Jane: 1500 times\n",
      "Mary: 348 times\n",
      "Bruce: 528 times\n",
      "Anita: 960 times\n"
     ]
    }
   ],
   "source": [
    "import tkinter as tk\n",
    "from tkinter import ttk\n",
    "from constraint import Problem\n",
    "\n",
    "# Define the roles and the candidates with their qualifications\n",
    "roles = [\"Py_1\", \"Py_2\", \"AI_1\", \"AI_2\", \"AI_3\", \"Web\", \"Database\", \"Systems\"]\n",
    "candidates = {\n",
    "    \"Ciara\": [\"Py_1\", \"Py_2\"],\n",
    "    \"Peter\": [\"Py_1\", \"Py_2\", \"AI_1\", \"AI_2\", \"AI_3\"],\n",
    "    \"Juan\": [\"Web\", \"AI_1\", \"AI_2\", \"AI_3\"],\n",
    "    \"Jim\": [\"AI_1\", \"AI_2\", \"AI_3\", \"Systems\"],\n",
    "    \"Jane\": [\"Py_1\", \"Py_2\", \"Database\"],\n",
    "    \"Mary\": [\"Web\", \"Systems\"],\n",
    "    \"Bruce\": [\"Systems\", \"Py_1\", \"Py_2\"],\n",
    "    \"Anita\": [\"Web\", \"AI_1\", \"AI_2\", \"AI_3\"]\n",
    "}\n",
    "\n",
    "# Original roles and candidates\n",
    "original_roles = [\"Py_1\", \"Py_2\", \"AI_1\", \"AI_2\", \"AI_3\", \"Web\", \"Database\", \"Systems\"]\n",
    "original_candidates = {\n",
    "    \"Ciara\": [\"Py_1\", \"Py_2\"],\n",
    "    \"Peter\": [\"Py_1\", \"Py_2\", \"AI_1\", \"AI_2\", \"AI_3\"],\n",
    "    \"Juan\": [\"Web\", \"AI_1\", \"AI_2\", \"AI_3\"],\n",
    "    \"Jim\": [\"AI_1\", \"AI_2\", \"AI_3\", \"Systems\"],\n",
    "    \"Jane\": [\"Py_1\", \"Py_2\", \"Database\"],\n",
    "    \"Mary\": [\"Web\", \"Systems\"],\n",
    "    \"Bruce\": [\"Systems\", \"Py_1\", \"Py_2\"],\n",
    "    \"Anita\": [\"Web\", \"AI_1\", \"AI_2\", \"AI_3\"]\n",
    "}\n",
    "\n",
    "def create_problem(roles, candidates):\n",
    "    problem = Problem()\n",
    "\n",
    "    # Add variables (roles) and their domains (candidates who can take the roles)\n",
    "    for role in roles:\n",
    "        problem.addVariable(role, list(candidates.keys()))\n",
    "\n",
    "    # Add constraints\n",
    "    add_constraints(problem, roles, candidates)\n",
    "\n",
    "    return problem\n",
    "\n",
    "def add_constraints(problem, roles, candidates):\n",
    "    # Add individual constraints\n",
    "    problem.addConstraint(python_constraint, [\"Py_1\", \"Py_2\"])\n",
    "    problem.addConstraint(ai_constraint, [\"AI_1\", \"AI_2\", \"AI_3\"])\n",
    "    problem.addConstraint(db_constraint, [\"Database\"])\n",
    "    problem.addConstraint(hiring_constraint, roles)\n",
    "    problem.addConstraint(max_two_positions_constraint, roles)\n",
    "    problem.addConstraint(qualification_constraint, roles)\n",
    "\n",
    "def python_constraint(Py_1, Py_2):\n",
    "    return Py_1 != Py_2\n",
    "\n",
    "def ai_constraint(ai_1, ai_2, ai_3):\n",
    "    return ai_1 != ai_2 and ai_1 != ai_3 and ai_2 != ai_3\n",
    "\n",
    "def db_constraint(database):\n",
    "    return database == \"Jane\"\n",
    "\n",
    "def hiring_constraint(*args):\n",
    "    candidates_set = set(args)\n",
    "    if \"Ciara\" in candidates_set and \"Juan\" in candidates_set:\n",
    "        return len(candidates_set) <= 6\n",
    "    elif \"Ciara\" in candidates_set or \"Juan\" in candidates_set:\n",
    "        return len(candidates_set) <= 5\n",
    "    else:\n",
    "        return len(candidates_set) == 4\n",
    "\n",
    "def max_two_positions_constraint(*args):\n",
    "    candidates_count = dict()\n",
    "    for candidate in args:\n",
    "        if candidate in candidates_count:\n",
    "            candidates_count[candidate] += 1\n",
    "        else:\n",
    "            candidates_count[candidate] = 1\n",
    "    return all(count <= 2 for count in candidates_count.values())\n",
    "\n",
    "def qualification_constraint(*args):\n",
    "    for role, candidate in zip(original_roles, args):\n",
    "        if role not in original_candidates[candidate]:\n",
    "            return False\n",
    "    return True\n",
    "\n",
    "def solve_and_print(problem, roles):\n",
    "    options = problem.getSolutions()\n",
    "\n",
    "    total_combinations = 0\n",
    "    unique_options = []\n",
    "\n",
    "    candidate_hire_count = {candidate: 0 for candidate in original_candidates.keys()}\n",
    "\n",
    "    for option in options:\n",
    "        # Post-process the solution as needed\n",
    "        post_process_option(option, roles)\n",
    "\n",
    "        # Count how many times each candidate could be hired\n",
    "        for candidate in option.values():\n",
    "            candidate_hire_count[candidate] += 1\n",
    "\n",
    "        # Adds to unique options if not already present\n",
    "        if option not in unique_options:\n",
    "            unique_options.append(option)\n",
    "            total_combinations += 1\n",
    "\n",
    "    # Prints the options by role\n",
    "    for i, option in enumerate(unique_options):\n",
    "        print_option(i + 1, option)\n",
    "\n",
    "    print(\"\\nCandidate Hire Counts:\")\n",
    "    for candidate, count in candidate_hire_count.items():\n",
    "        print(f\"{candidate}: {count} times\")\n",
    "\n",
    "    # Return options and hire counts for GUI display\n",
    "    return unique_options, candidate_hire_count\n",
    "\n",
    "def post_process_option(option, roles):\n",
    "    # For roles with the same qualifications, sorts the individuals\n",
    "    ai_roles = sorted([option[\"AI_1\"], option[\"AI_2\"], option[\"AI_3\"]])\n",
    "    option[\"AI_1\"], option[\"AI_2\"], option[\"AI_3\"] = ai_roles[0], ai_roles[1], ai_roles[2]\n",
    "\n",
    "    python_roles = sorted([option[\"Py_1\"], option[\"Py_2\"]])\n",
    "    option[\"Py_1\"], option[\"Py_2\"] = python_roles\n",
    "\n",
    "def print_option(index, option):\n",
    "    print(f\"Option {index}:\")\n",
    "    for role, candidate in option.items():\n",
    "        print(f\"Role {role}: {candidate}\")\n",
    "    print()\n",
    "\n",
    "# GUI for displaying solutions and candidate hire counts\n",
    "def show_solutions_gui(options, candidate_hire_count):\n",
    "    root = tk.Tk()\n",
    "    root.title(\"Solutions and Candidate Hire Counts\")\n",
    "\n",
    "    listbox = tk.Listbox(root)\n",
    "    for i, option in enumerate(options, start=1):\n",
    "        listbox.insert(tk.END, f\"Option {i}\")\n",
    "    listbox.pack(pady=10)\n",
    "\n",
    "    def show_solution(event):\n",
    "        selected_option_index = listbox.curselection()\n",
    "\n",
    "        if not selected_option_index:\n",
    "            return\n",
    "\n",
    "        selected_option = options[int(selected_option_index[0])]\n",
    "        option_label.config(text=f\"Selected Option:\\n{format_option(selected_option)}\")\n",
    "\n",
    "    listbox.bind(\"<ButtonRelease-1>\", show_solution)\n",
    "\n",
    "    option_label = tk.Label(root, text=\"\")\n",
    "    option_label.pack(pady=10)\n",
    "\n",
    "    hire_counts_label = tk.Label(root, text=\"Candidate Hire Counts:\")\n",
    "    hire_counts_label.pack(pady=10)\n",
    "\n",
    "    for candidate, count in candidate_hire_count.items():\n",
    "        label = tk.Label(root, text=f\"{candidate}: {count} times\")\n",
    "        label.pack()\n",
    "\n",
    "    root.mainloop()\n",
    "\n",
    "def format_option(option):\n",
    "    formatted_option = \"\"\n",
    "    for role, candidate in option.items():\n",
    "        formatted_option += f\"Role {role}: {candidate}\\n\"\n",
    "    return formatted_option\n",
    "\n",
    "# Create and solve the problem\n",
    "problem = create_problem(roles, candidates)\n",
    "options, candidate_hire_count = solve_and_print(problem, roles)\n",
    "\n",
    "# Display solutions and candidate hire counts in GUI\n",
    "show_solutions_gui(options, candidate_hire_count)\n"
   ]
  },
  {
   "cell_type": "code",
   "execution_count": null,
   "id": "fa0da0c0",
   "metadata": {},
   "outputs": [],
   "source": []
  }
 ],
 "metadata": {
  "kernelspec": {
   "display_name": "Python 3 (ipykernel)",
   "language": "python",
   "name": "python3"
  },
  "language_info": {
   "codemirror_mode": {
    "name": "ipython",
    "version": 3
   },
   "file_extension": ".py",
   "mimetype": "text/x-python",
   "name": "python",
   "nbconvert_exporter": "python",
   "pygments_lexer": "ipython3",
   "version": "3.9.7"
  }
 },
 "nbformat": 4,
 "nbformat_minor": 5
}
